{
 "cells": [
  {
   "cell_type": "code",
   "execution_count": 141,
   "id": "d589db06",
   "metadata": {},
   "outputs": [],
   "source": [
    "from keras.models import Model, Sequential\n",
    "import numpy as np\n",
    "from keras.preprocessing import text, sequence\n",
    "from keras.callbacks import EarlyStopping, ModelCheckpoint\n",
    "from keras import activations, initializers, regularizers, constraints\n",
    "from keras.utils.conv_utils import conv_output_length\n",
    "from keras.layers import Dense, Input, Dropout, LSTM, Activation\n",
    "from keras.layers.embeddings import Embedding\n",
    "from keras.initializers import glorot_uniform\n",
    "from keras.preprocessing import text, sequence\n",
    "from keras.regularizers import l2\n",
    "from keras.constraints import maxnorm\n",
    "from keras.callbacks import ReduceLROnPlateau, EarlyStopping\n",
    "import sklearn\n",
    "from sklearn.model_selection import train_test_split\n",
    "from sklearn.metrics import classification_report\n",
    "from sklearn import metrics\n",
    "from sklearn.preprocessing import LabelEncoder\n",
    "from sklearn.metrics import confusion_matrix, classification_report, accuracy_score\n",
    "import numpy as np \n",
    "import pandas as pd \n",
    "import os\n",
    "np.random.seed(0)\n",
    "import matplotlib.pyplot as plt\n",
    "import matplotlib as mpl\n",
    "import seaborn as sns\n",
    "from wordcloud import WordCloud\n",
    "from matplotlib import rcParams\n",
    "from collections import Counter\n",
    "from tensorflow.keras import preprocessing\n",
    "from tensorflow.keras.preprocessing.text import Tokenizer\n",
    "from tensorflow.keras.preprocessing.sequence import pad_sequences\n",
    "from keras.layers.convolutional import Conv1D\n",
    "from keras.layers.convolutional import MaxPooling1D\n",
    "import tensorflow as tf\n",
    "# Word2vec\n",
    "import gensim\n",
    "import time"
   ]
  },
  {
   "cell_type": "code",
   "execution_count": 96,
   "id": "400fae59",
   "metadata": {},
   "outputs": [],
   "source": [
    "# WORD2VEC \n",
    "W2V_SIZE = 100\n",
    "W2V_WINDOW = 7\n",
    "W2V_EPOCH = 32\n",
    "W2V_MIN_COUNT = 10\n",
    "# EXPORT\n",
    "KERAS_MODEL = \"model.h5\"\n",
    "WORD2VEC_MODEL = \"model.w2v\"\n",
    "TOKENIZER_MODEL = \"tokenizer.pkl\"\n",
    "ENCODER_MODEL = \"encoder.pkl\"\n",
    "# KERAS\n",
    "SEQUENCE_LENGTH = 100\n",
    "BATCH_SIZE = 1024\n",
    "EPOCHS = 10"
   ]
  },
  {
   "cell_type": "markdown",
   "id": "5aef9231",
   "metadata": {},
   "source": [
    "### load pre-processed train / test / validation data"
   ]
  },
  {
   "cell_type": "code",
   "execution_count": 97,
   "id": "c48f7950",
   "metadata": {},
   "outputs": [],
   "source": [
    "X_train = pd.read_csv('./data/X_train.csv')\n",
    "X_test = pd.read_csv('./data/X_test.csv')\n",
    "y_train = pd.read_csv('./data/y_train.csv')\n",
    "y_test = pd.read_csv('./data/y_test.csv')\n",
    "X_val = pd.read_csv('./data/X_val.csv')\n",
    "y_val = pd.read_csv('./data/y_val.csv')"
   ]
  },
  {
   "cell_type": "code",
   "execution_count": 98,
   "id": "570c4a6b",
   "metadata": {},
   "outputs": [
    {
     "data": {
      "text/plain": [
       "0        worse tea fresh green tea indeed green tea tim...\n",
       "1        ive tasted best real things wonderful dreadful...\n",
       "2        love taste good ginger snap cookie saw offered...\n",
       "3        absolutely love coachs oatmeal hated oatmeal t...\n",
       "4        normally dont go instant coffees delicious ins...\n",
       "                               ...                        \n",
       "96058    ive loved graham crackers since kid many brand...\n",
       "96059    decided give try since kcup coffee prices goin...\n",
       "96060    excellent coffee either brewed hot ice drink l...\n",
       "96061    reading useful negative review times comment t...\n",
       "96062    excited high protein pretzels opened tasted ta...\n",
       "Name: text, Length: 96063, dtype: object"
      ]
     },
     "execution_count": 98,
     "metadata": {},
     "output_type": "execute_result"
    }
   ],
   "source": [
    "X_train = X_train.iloc[:,0]\n",
    "X_test = X_test.iloc[:,0]\n",
    "y_train = y_train.iloc[:,0]\n",
    "y_test = y_test.iloc[:,0]\n",
    "X_val = X_val.iloc[:,0]\n",
    "y_val = y_val.iloc[:,0]\n",
    "X_train"
   ]
  },
  {
   "cell_type": "code",
   "execution_count": 99,
   "id": "342b1b1d",
   "metadata": {},
   "outputs": [
    {
     "name": "stdout",
     "output_type": "stream",
     "text": [
      "Train data len:96063\n",
      "Class distributionCounter({1: 80198, 0: 15865})\n",
      "Valid data len:32021\n",
      "Class distributionCounter({1: 26724, 0: 5297})\n",
      "Valid data len:32022\n",
      "Class distributionCounter({1: 26731, 0: 5291})\n"
     ]
    }
   ],
   "source": [
    "print('Train data len:'+str(len(X_train)))\n",
    "print('Class distribution'+str(Counter(y_train)))\n",
    "print('Valid data len:'+str(len(X_val)))\n",
    "print('Class distribution'+ str(Counter(y_val)))\n",
    "print('Valid data len:'+str(len(X_test)))\n",
    "print('Class distribution'+ str(Counter(y_test)))"
   ]
  },
  {
   "cell_type": "code",
   "execution_count": 100,
   "id": "662cabe2",
   "metadata": {},
   "outputs": [
    {
     "name": "stdout",
     "output_type": "stream",
     "text": [
      "Wall time: 1.18 s\n"
     ]
    }
   ],
   "source": [
    "%%time\n",
    "documents = [_text.split() for _text in X_train] "
   ]
  },
  {
   "cell_type": "code",
   "execution_count": 101,
   "id": "ba979ac3",
   "metadata": {},
   "outputs": [],
   "source": [
    "w2v_model = gensim.models.word2vec.Word2Vec(vector_size=W2V_SIZE,window=W2V_WINDOW, \n",
    "                                            min_count=W2V_MIN_COUNT, \n",
    "                                            workers=8)"
   ]
  },
  {
   "cell_type": "code",
   "execution_count": 102,
   "id": "41ec3733",
   "metadata": {},
   "outputs": [],
   "source": [
    "w2v_model.build_vocab(documents)"
   ]
  },
  {
   "cell_type": "code",
   "execution_count": 103,
   "id": "836abb6e",
   "metadata": {},
   "outputs": [
    {
     "name": "stdout",
     "output_type": "stream",
     "text": [
      "Vocab size 14163\n"
     ]
    }
   ],
   "source": [
    "vocab_size = len(w2v_model.wv)\n",
    "#vocab_size = len(words)\n",
    "print(\"Vocab size\", vocab_size)"
   ]
  },
  {
   "cell_type": "code",
   "execution_count": 104,
   "id": "27563a7f",
   "metadata": {},
   "outputs": [
    {
     "name": "stdout",
     "output_type": "stream",
     "text": [
      "Wall time: 1min 19s\n"
     ]
    },
    {
     "data": {
      "text/plain": [
       "(120395507, 133009024)"
      ]
     },
     "execution_count": 104,
     "metadata": {},
     "output_type": "execute_result"
    }
   ],
   "source": [
    "%%time\n",
    "w2v_model.train(documents, total_examples=len(documents), epochs=W2V_EPOCH)"
   ]
  },
  {
   "cell_type": "code",
   "execution_count": 105,
   "id": "22aeadd1",
   "metadata": {},
   "outputs": [
    {
     "data": {
      "text/plain": [
       "[('adore', 0.5802345871925354),\n",
       " ('fantastic', 0.5680603384971619),\n",
       " ('loves', 0.5662851333618164),\n",
       " ('enjoy', 0.5603818893432617),\n",
       " ('wonderful', 0.5557680726051331),\n",
       " ('loved', 0.5372111201286316),\n",
       " ('awesome', 0.5344123244285583),\n",
       " ('amazing', 0.5175678730010986),\n",
       " ('great', 0.5149020552635193),\n",
       " ('delicious', 0.5119783878326416)]"
      ]
     },
     "execution_count": 105,
     "metadata": {},
     "output_type": "execute_result"
    }
   ],
   "source": [
    "w2v_model.wv.most_similar(\"love\")"
   ]
  },
  {
   "cell_type": "markdown",
   "id": "f702b264",
   "metadata": {},
   "source": [
    "### vectorize a text corpus, by turning each text into either a sequence of integers using keras oov tokenizer\n",
    "- num_words : the maximum number of words to keep, based on word frequency. \n"
   ]
  },
  {
   "cell_type": "code",
   "execution_count": 106,
   "id": "8d7b6007",
   "metadata": {},
   "outputs": [
    {
     "name": "stdout",
     "output_type": "stream",
     "text": [
      "Total words 67497\n",
      "[[3, 1799, 12]]\n"
     ]
    }
   ],
   "source": [
    "#num_words = 50000 #the maximum number of words to keep, based on word frequency. Only the most common num_words-1 words will be kept\n",
    "\n",
    "tokenizer = Tokenizer()\n",
    "tokenizer.fit_on_texts(X_train)\n",
    "\n",
    "vocab_size = len(tokenizer.word_index) + 1\n",
    "print(\"Total words\", vocab_size)\n",
    "\n",
    "print(str(tokenizer.texts_to_sequences(['coffee pretzel tea'])))"
   ]
  },
  {
   "cell_type": "code",
   "execution_count": null,
   "id": "bca37748",
   "metadata": {},
   "outputs": [],
   "source": []
  },
  {
   "cell_type": "code",
   "execution_count": 107,
   "id": "9d3c65ec",
   "metadata": {
    "scrolled": false
   },
   "outputs": [
    {
     "name": "stderr",
     "output_type": "stream",
     "text": [
      "c:\\users\\iambo\\appdata\\local\\programs\\python\\python37\\lib\\site-packages\\ipykernel_launcher.py:1: VisibleDeprecationWarning: Creating an ndarray from ragged nested sequences (which is a list-or-tuple of lists-or-tuples-or ndarrays with different lengths or shapes) is deprecated. If you meant to do this, you must specify 'dtype=object' when creating the ndarray.\n",
      "  \"\"\"Entry point for launching an IPython kernel.\n",
      "c:\\users\\iambo\\appdata\\local\\programs\\python\\python37\\lib\\site-packages\\ipykernel_launcher.py:2: VisibleDeprecationWarning: Creating an ndarray from ragged nested sequences (which is a list-or-tuple of lists-or-tuples-or ndarrays with different lengths or shapes) is deprecated. If you meant to do this, you must specify 'dtype=object' when creating the ndarray.\n",
      "  \n",
      "c:\\users\\iambo\\appdata\\local\\programs\\python\\python37\\lib\\site-packages\\ipykernel_launcher.py:3: VisibleDeprecationWarning: Creating an ndarray from ragged nested sequences (which is a list-or-tuple of lists-or-tuples-or ndarrays with different lengths or shapes) is deprecated. If you meant to do this, you must specify 'dtype=object' when creating the ndarray.\n",
      "  This is separate from the ipykernel package so we can avoid doing imports until\n"
     ]
    }
   ],
   "source": [
    "x_train = np.array( tokenizer.texts_to_sequences(X_train) )\n",
    "x_val = np.array( tokenizer.texts_to_sequences(X_val) )\n",
    "x_test  = np.array( tokenizer.texts_to_sequences(X_test) )\n",
    "\n",
    "\n",
    "\n",
    "x_train = pad_sequences(x_train, padding='post', maxlen=100)\n",
    "x_val = pad_sequences(x_val, padding='post', maxlen=100)\n",
    "x_test = pad_sequences(x_test, padding='post', maxlen=100)"
   ]
  },
  {
   "cell_type": "code",
   "execution_count": 108,
   "id": "698b169d",
   "metadata": {},
   "outputs": [
    {
     "data": {
      "text/plain": [
       "[0, 1]"
      ]
     },
     "execution_count": 108,
     "metadata": {},
     "output_type": "execute_result"
    }
   ],
   "source": [
    "labels = y_train.unique().tolist()\n",
    "#labels.append(NEUTRAL)\n",
    "labels"
   ]
  },
  {
   "cell_type": "code",
   "execution_count": 109,
   "id": "b9467e9d",
   "metadata": {},
   "outputs": [
    {
     "name": "stdout",
     "output_type": "stream",
     "text": [
      "y_train (96063, 1)\n",
      "y_test (32022, 1)\n"
     ]
    }
   ],
   "source": [
    "encoder = LabelEncoder()\n",
    "encoder.fit(y_train.tolist())\n",
    "\n",
    "y_train = encoder.transform(y_train.tolist())\n",
    "y_test = encoder.transform(y_test.tolist())\n",
    "\n",
    "y_train = y_train.reshape(-1,1)\n",
    "y_test = y_test.reshape(-1,1)\n",
    "\n",
    "print(\"y_train\",y_train.shape)\n",
    "print(\"y_test\",y_test.shape)"
   ]
  },
  {
   "cell_type": "code",
   "execution_count": 110,
   "id": "8a5af44c",
   "metadata": {},
   "outputs": [
    {
     "name": "stdout",
     "output_type": "stream",
     "text": [
      "x_train (96063, 100)\n",
      "y_train (96063, 1)\n",
      "\n",
      "x_test (32022, 100)\n",
      "y_test (32022, 1)\n"
     ]
    }
   ],
   "source": [
    "print(\"x_train\", x_train.shape)\n",
    "print(\"y_train\", y_train.shape)\n",
    "print()\n",
    "print(\"x_test\", x_test.shape)\n",
    "print(\"y_test\", y_test.shape)"
   ]
  },
  {
   "cell_type": "code",
   "execution_count": 111,
   "id": "a3e5de5c",
   "metadata": {},
   "outputs": [
    {
     "data": {
      "text/plain": [
       "array([[0],\n",
       "       [1],\n",
       "       [1],\n",
       "       [1],\n",
       "       [1],\n",
       "       [1],\n",
       "       [1],\n",
       "       [1],\n",
       "       [1],\n",
       "       [1]], dtype=int64)"
      ]
     },
     "execution_count": 111,
     "metadata": {},
     "output_type": "execute_result"
    }
   ],
   "source": [
    "y_train[:10]"
   ]
  },
  {
   "cell_type": "code",
   "execution_count": 112,
   "id": "03a779de",
   "metadata": {},
   "outputs": [
    {
     "name": "stdout",
     "output_type": "stream",
     "text": [
      "(67497, 100)\n"
     ]
    }
   ],
   "source": [
    "embedding_matrix = np.zeros((vocab_size, W2V_SIZE))\n",
    "for word, i in tokenizer.word_index.items():\n",
    "  if word in w2v_model.wv:\n",
    "    embedding_matrix[i] = w2v_model.wv[word]\n",
    "print(embedding_matrix.shape)"
   ]
  },
  {
   "cell_type": "code",
   "execution_count": 113,
   "id": "258f2505",
   "metadata": {},
   "outputs": [],
   "source": [
    "embedding_layer = Embedding(vocab_size, W2V_SIZE, weights=[embedding_matrix], input_length=SEQUENCE_LENGTH, trainable=False)"
   ]
  },
  {
   "cell_type": "code",
   "execution_count": 114,
   "id": "b0681e3b",
   "metadata": {},
   "outputs": [
    {
     "name": "stdout",
     "output_type": "stream",
     "text": [
      "Model: \"sequential_7\"\n",
      "_________________________________________________________________\n",
      " Layer (type)                Output Shape              Param #   \n",
      "=================================================================\n",
      " embedding_7 (Embedding)     (None, 100, 100)          6749700   \n",
      "                                                                 \n",
      " dropout_13 (Dropout)        (None, 100, 100)          0         \n",
      "                                                                 \n",
      " lstm_9 (LSTM)               (None, 100)               80400     \n",
      "                                                                 \n",
      " dense_10 (Dense)            (None, 1)                 101       \n",
      "                                                                 \n",
      "=================================================================\n",
      "Total params: 6,830,201\n",
      "Trainable params: 80,501\n",
      "Non-trainable params: 6,749,700\n",
      "_________________________________________________________________\n"
     ]
    }
   ],
   "source": [
    "model = Sequential()\n",
    "model.add(embedding_layer)\n",
    "model.add(Dropout(0.5))\n",
    "model.add(LSTM(100, dropout=0.2, recurrent_dropout=0.2))\n",
    "model.add(Dense(1, activation='sigmoid'))\n",
    "\n",
    "model.summary()"
   ]
  },
  {
   "cell_type": "code",
   "execution_count": 115,
   "id": "cd336418",
   "metadata": {},
   "outputs": [],
   "source": [
    "model.compile(loss='binary_crossentropy',\n",
    "              optimizer=\"adam\",\n",
    "              metrics=['accuracy'])"
   ]
  },
  {
   "cell_type": "code",
   "execution_count": 116,
   "id": "813a1046",
   "metadata": {},
   "outputs": [],
   "source": [
    "callbacks = [ ReduceLROnPlateau(monitor='val_loss', patience=5, cooldown=0),\n",
    "              EarlyStopping(monitor='val_acc', min_delta=1e-4, patience=5)]"
   ]
  },
  {
   "cell_type": "code",
   "execution_count": 117,
   "id": "565e5a7f",
   "metadata": {},
   "outputs": [
    {
     "name": "stdout",
     "output_type": "stream",
     "text": [
      "Epoch 1/10\n",
      "85/85 [==============================] - ETA: 0s - loss: 0.4516 - accuracy: 0.8304WARNING:tensorflow:Early stopping conditioned on metric `val_acc` which is not available. Available metrics are: loss,accuracy,val_loss,val_accuracy,lr\n",
      "85/85 [==============================] - 165s 2s/step - loss: 0.4516 - accuracy: 0.8304 - val_loss: 0.3341 - val_accuracy: 0.8530 - lr: 0.0010\n",
      "Epoch 2/10\n",
      "85/85 [==============================] - ETA: 0s - loss: 0.3626 - accuracy: 0.8502WARNING:tensorflow:Early stopping conditioned on metric `val_acc` which is not available. Available metrics are: loss,accuracy,val_loss,val_accuracy,lr\n",
      "85/85 [==============================] - 210s 2s/step - loss: 0.3626 - accuracy: 0.8502 - val_loss: 0.2711 - val_accuracy: 0.8926 - lr: 0.0010\n",
      "Epoch 3/10\n",
      "85/85 [==============================] - ETA: 0s - loss: 0.3021 - accuracy: 0.8772WARNING:tensorflow:Early stopping conditioned on metric `val_acc` which is not available. Available metrics are: loss,accuracy,val_loss,val_accuracy,lr\n",
      "85/85 [==============================] - 198s 2s/step - loss: 0.3021 - accuracy: 0.8772 - val_loss: 0.2320 - val_accuracy: 0.9054 - lr: 0.0010\n",
      "Epoch 4/10\n",
      "85/85 [==============================] - ETA: 0s - loss: 0.2608 - accuracy: 0.8938WARNING:tensorflow:Early stopping conditioned on metric `val_acc` which is not available. Available metrics are: loss,accuracy,val_loss,val_accuracy,lr\n",
      "85/85 [==============================] - 191s 2s/step - loss: 0.2608 - accuracy: 0.8938 - val_loss: 0.2112 - val_accuracy: 0.9137 - lr: 0.0010\n",
      "Epoch 5/10\n",
      "85/85 [==============================] - ETA: 0s - loss: 0.2487 - accuracy: 0.8994WARNING:tensorflow:Early stopping conditioned on metric `val_acc` which is not available. Available metrics are: loss,accuracy,val_loss,val_accuracy,lr\n",
      "85/85 [==============================] - 195s 2s/step - loss: 0.2487 - accuracy: 0.8994 - val_loss: 0.2068 - val_accuracy: 0.9188 - lr: 0.0010\n",
      "Epoch 6/10\n",
      "85/85 [==============================] - ETA: 0s - loss: 0.2387 - accuracy: 0.9041WARNING:tensorflow:Early stopping conditioned on metric `val_acc` which is not available. Available metrics are: loss,accuracy,val_loss,val_accuracy,lr\n",
      "85/85 [==============================] - 192s 2s/step - loss: 0.2387 - accuracy: 0.9041 - val_loss: 0.2047 - val_accuracy: 0.9219 - lr: 0.0010\n",
      "Epoch 7/10\n",
      "85/85 [==============================] - ETA: 0s - loss: 0.2345 - accuracy: 0.9059WARNING:tensorflow:Early stopping conditioned on metric `val_acc` which is not available. Available metrics are: loss,accuracy,val_loss,val_accuracy,lr\n",
      "85/85 [==============================] - 193s 2s/step - loss: 0.2345 - accuracy: 0.9059 - val_loss: 0.2137 - val_accuracy: 0.9183 - lr: 0.0010\n",
      "Epoch 8/10\n",
      "85/85 [==============================] - ETA: 0s - loss: 0.2277 - accuracy: 0.9091WARNING:tensorflow:Early stopping conditioned on metric `val_acc` which is not available. Available metrics are: loss,accuracy,val_loss,val_accuracy,lr\n",
      "85/85 [==============================] - 189s 2s/step - loss: 0.2277 - accuracy: 0.9091 - val_loss: 0.1906 - val_accuracy: 0.9229 - lr: 0.0010\n",
      "Epoch 9/10\n",
      "85/85 [==============================] - ETA: 0s - loss: 0.2240 - accuracy: 0.9101WARNING:tensorflow:Early stopping conditioned on metric `val_acc` which is not available. Available metrics are: loss,accuracy,val_loss,val_accuracy,lr\n",
      "85/85 [==============================] - 186s 2s/step - loss: 0.2240 - accuracy: 0.9101 - val_loss: 0.1932 - val_accuracy: 0.9225 - lr: 0.0010\n",
      "Epoch 10/10\n",
      "85/85 [==============================] - ETA: 0s - loss: 0.2204 - accuracy: 0.9114WARNING:tensorflow:Early stopping conditioned on metric `val_acc` which is not available. Available metrics are: loss,accuracy,val_loss,val_accuracy,lr\n",
      "85/85 [==============================] - 187s 2s/step - loss: 0.2204 - accuracy: 0.9114 - val_loss: 0.1854 - val_accuracy: 0.9271 - lr: 0.0010\n",
      "Wall time: 31min 46s\n"
     ]
    }
   ],
   "source": [
    "%%time\n",
    "history = model.fit(x_train, y_train,\n",
    "                    batch_size=BATCH_SIZE,\n",
    "                    epochs=EPOCHS,\n",
    "                    validation_split=0.1,\n",
    "                    verbose=1,\n",
    "                    callbacks=callbacks)"
   ]
  },
  {
   "cell_type": "code",
   "execution_count": 120,
   "id": "e5e547fb",
   "metadata": {},
   "outputs": [
    {
     "data": {
      "image/png": "[encoded data removed]",
      "text/plain": [
       "<Figure size 720x720 with 1 Axes>"
      ]
     },
     "metadata": {
      "needs_background": "light"
     },
     "output_type": "display_data"
    },
    {
     "data": {
      "image/png": "[encoded data removed]",
      "text/plain": [
       "<Figure size 720x720 with 1 Axes>"
      ]
     },
     "metadata": {
      "needs_background": "light"
     },
     "output_type": "display_data"
    }
   ],
   "source": [
    "acc = history.history['accuracy']\n",
    "val_acc = history.history['val_accuracy']\n",
    "loss = history.history['loss']\n",
    "val_loss = history.history['val_loss']\n",
    " \n",
    "epochs = range(len(acc))\n",
    " \n",
    "plt.plot(epochs, acc, 'b', label='Training acc')\n",
    "plt.plot(epochs, val_acc, 'r', label='Validation acc')\n",
    "plt.title('Training and validation accuracy')\n",
    "plt.legend()\n",
    " \n",
    "plt.figure()\n",
    " \n",
    "plt.plot(epochs, loss, 'b', label='Training loss')\n",
    "plt.plot(epochs, val_loss, 'r', label='Validation loss')\n",
    "plt.title('Training and validation loss')\n",
    "plt.legend()\n",
    " \n",
    "plt.show()"
   ]
  },
  {
   "cell_type": "code",
   "execution_count": 122,
   "id": "ec893f43",
   "metadata": {},
   "outputs": [],
   "source": [
    "def decode_sentiment(score):\n",
    "     return 0 if score < 0.5 else 1"
   ]
  },
  {
   "cell_type": "code",
   "execution_count": 124,
   "id": "961f1acc",
   "metadata": {},
   "outputs": [],
   "source": [
    "def predict(text):\n",
    "    start_at = time.time()\n",
    "    # Tokenize text\n",
    "    x_test = pad_sequences(tokenizer.texts_to_sequences([text]), maxlen=SEQUENCE_LENGTH)\n",
    "    # Predict\n",
    "    score = model.predict([x_test])[0]\n",
    "    # Decode sentiment\n",
    "    label = decode_sentiment(score)\n",
    "\n",
    "    return {\"label\": label, \"score\": float(score),\n",
    "       \"elapsed_time\": time.time()-start_at}  "
   ]
  },
  {
   "cell_type": "code",
   "execution_count": 127,
   "id": "0320ee4b",
   "metadata": {},
   "outputs": [
    {
     "data": {
      "text/plain": [
       "{'label': 1, 'score': 0.8829184770584106, 'elapsed_time': 0.37055420875549316}"
      ]
     },
     "execution_count": 127,
     "metadata": {},
     "output_type": "execute_result"
    }
   ],
   "source": [
    "predict(\"MPs vote to reject 12 December election plan - but Boris Johnson is likely to try again for a pre-Christmas poll\")"
   ]
  },
  {
   "cell_type": "code",
   "execution_count": 128,
   "id": "797fab64",
   "metadata": {},
   "outputs": [
    {
     "data": {
      "text/plain": [
       "{'label': 1, 'score': 0.6643069982528687, 'elapsed_time': 0.07782196998596191}"
      ]
     },
     "execution_count": 128,
     "metadata": {},
     "output_type": "execute_result"
    }
   ],
   "source": [
    "predict(\"IS leader Abu Bakr al-Baghdadi was killed in US operation in Syria, President Donald Trump confirms\")"
   ]
  },
  {
   "cell_type": "code",
   "execution_count": 129,
   "id": "27afd4bf",
   "metadata": {},
   "outputs": [
    {
     "data": {
      "text/plain": [
       "{'label': 0, 'score': 0.39946579933166504, 'elapsed_time': 0.07779288291931152}"
      ]
     },
     "execution_count": 129,
     "metadata": {},
     "output_type": "execute_result"
    }
   ],
   "source": [
    "predict('He was a sick and depraved man, and now he’s gone. Baghdadi was vicious and violent and he died in a vicious and violent way. US President Donald Trump says the “world is now a much safer place” after the killing of IS leader Abu Bakr al-Baghdadi')"
   ]
  },
  {
   "cell_type": "code",
   "execution_count": 130,
   "id": "d9bdb607",
   "metadata": {},
   "outputs": [
    {
     "data": {
      "text/plain": [
       "{'label': 1, 'score': 0.6164216995239258, 'elapsed_time': 0.07879042625427246}"
      ]
     },
     "execution_count": 130,
     "metadata": {},
     "output_type": "execute_result"
    }
   ],
   "source": [
    "predict('I bought this property for $1.5 million: Condo resident yells profanities at security guards over visitor parking')"
   ]
  },
  {
   "cell_type": "code",
   "execution_count": 131,
   "id": "19173d10",
   "metadata": {},
   "outputs": [
    {
     "name": "stdout",
     "output_type": "stream",
     "text": [
      "5/5 [==============================] - 9s 2s/step\n",
      "Wall time: 8.91 s\n"
     ]
    }
   ],
   "source": [
    "%%time\n",
    "y_pred_1d = []\n",
    "y_test_1d = list(y_test)\n",
    "scores = model.predict(x_test, verbose=1, batch_size=8000)\n",
    "y_pred_1d = [decode_sentiment(score) for score in scores]"
   ]
  },
  {
   "cell_type": "code",
   "execution_count": 144,
   "id": "1e943ffc",
   "metadata": {},
   "outputs": [
    {
     "name": "stdout",
     "output_type": "stream",
     "text": [
      "              precision    recall  f1-score   support\n",
      "\n",
      "           0       0.85      0.66      0.74      5291\n",
      "           1       0.94      0.98      0.96     26731\n",
      "\n",
      "    accuracy                           0.92     32022\n",
      "   macro avg       0.89      0.82      0.85     32022\n",
      "weighted avg       0.92      0.92      0.92     32022\n",
      "\n"
     ]
    }
   ],
   "source": [
    "print(classification_report(y_test_1d, y_pred_1d))"
   ]
  }
 ],
 "metadata": {
  "kernelspec": {
   "display_name": "Python 3 (ipykernel)",
   "language": "python",
   "name": "python3"
  },
  "language_info": {
   "codemirror_mode": {
    "name": "ipython",
    "version": 3
   },
   "file_extension": ".py",
   "mimetype": "text/x-python",
   "name": "python",
   "nbconvert_exporter": "python",
   "pygments_lexer": "ipython3",
   "version": "3.7.6"
  }
 },
 "nbformat": 4,
 "nbformat_minor": 5
}
