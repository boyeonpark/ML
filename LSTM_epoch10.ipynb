{
  "cells": [
    {
      "cell_type": "code",
      "source": [
        "from google.colab import drive\n",
        "drive.mount('/content/drive')"
      ],
      "metadata": {
        "colab": {
          "base_uri": "https://localhost:8080/"
        },
        "id": "K8QvWc0Auk7C",
        "outputId": "760496aa-baac-4752-f996-a848b13abb0e"
      },
      "id": "K8QvWc0Auk7C",
      "execution_count": 1,
      "outputs": [
        {
          "output_type": "stream",
          "name": "stdout",
          "text": [
            "Mounted at /content/drive\n"
          ]
        }
      ]
    },
    {
      "cell_type": "code",
      "execution_count": 2,
      "id": "d589db06",
      "metadata": {
        "id": "d589db06"
      },
      "outputs": [],
      "source": [
        "from keras.models import Model, Sequential\n",
        "from keras.preprocessing import text, sequence\n",
        "from keras.callbacks import EarlyStopping, ModelCheckpoint\n",
        "from keras import activations, initializers, regularizers, constraints\n",
        "from keras.utils.conv_utils import conv_output_length\n",
        "from keras.layers import Dense, Input, Dropout, LSTM, Activation\n",
        "from keras.layers.embeddings import Embedding\n",
        "from keras.initializers import glorot_uniform\n",
        "from keras.preprocessing import text, sequence\n",
        "from keras.regularizers import l2\n",
        "from keras.constraints import maxnorm\n",
        "import sklearn\n",
        "from sklearn.model_selection import train_test_split\n",
        "from sklearn.metrics import classification_report\n",
        "from sklearn import metrics\n",
        "import numpy as np \n",
        "import pandas as pd \n",
        "import os\n",
        "np.random.seed(0)\n",
        "import matplotlib.pyplot as plt\n",
        "import matplotlib as mpl\n",
        "import seaborn as sns\n",
        "from wordcloud import WordCloud\n",
        "from matplotlib import rcParams\n",
        "from collections import Counter\n",
        "from tensorflow.keras import preprocessing\n",
        "from tensorflow.keras.preprocessing.text import Tokenizer\n",
        "from tensorflow.keras.preprocessing.sequence import pad_sequences\n",
        "import tensorflow as tf"
      ]
    },
    {
      "cell_type": "markdown",
      "id": "5aef9231",
      "metadata": {
        "id": "5aef9231"
      },
      "source": [
        "### load pre-processed train / test / validation data"
      ]
    },
    {
      "cell_type": "code",
      "execution_count": 3,
      "id": "c48f7950",
      "metadata": {
        "id": "c48f7950"
      },
      "outputs": [],
      "source": [
        "X_train = pd.read_csv('/content/drive/MyDrive/Colab Notebooks/X_train.csv')\n",
        "X_test = pd.read_csv('/content/drive/MyDrive/Colab Notebooks/X_test.csv')\n",
        "y_train = pd.read_csv('/content/drive/MyDrive/Colab Notebooks/y_train.csv')\n",
        "y_test = pd.read_csv('/content/drive/MyDrive/Colab Notebooks/y_test.csv')\n",
        "X_val = pd.read_csv('/content/drive/MyDrive/Colab Notebooks/X_val.csv')\n",
        "y_val = pd.read_csv('/content/drive/MyDrive/Colab Notebooks/y_val.csv')"
      ]
    },
    {
      "cell_type": "code",
      "execution_count": 4,
      "id": "570c4a6b",
      "metadata": {
        "id": "570c4a6b",
        "outputId": "e70143d2-be6b-4134-ca5b-40bbd4f34e8f",
        "colab": {
          "base_uri": "https://localhost:8080/"
        }
      },
      "outputs": [
        {
          "output_type": "execute_result",
          "data": {
            "text/plain": [
              "0        worse tea fresh green tea indeed green tea tim...\n",
              "1        ive tasted best real things wonderful dreadful...\n",
              "2        love taste good ginger snap cookie saw offered...\n",
              "3        absolutely love coachs oatmeal hated oatmeal t...\n",
              "4        normally dont go instant coffees delicious ins...\n",
              "                               ...                        \n",
              "96058    ive loved graham crackers since kid many brand...\n",
              "96059    decided give try since kcup coffee prices goin...\n",
              "96060    excellent coffee either brewed hot ice drink l...\n",
              "96061    reading useful negative review times comment t...\n",
              "96062    excited high protein pretzels opened tasted ta...\n",
              "Name: text, Length: 96063, dtype: object"
            ]
          },
          "metadata": {},
          "execution_count": 4
        }
      ],
      "source": [
        "X_train = X_train.iloc[:,0]\n",
        "X_test = X_test.iloc[:,0]\n",
        "y_train = y_train.iloc[:,0]\n",
        "y_test = y_test.iloc[:,0]\n",
        "X_val = X_val.iloc[:,0]\n",
        "y_val = y_val.iloc[:,0]\n",
        "X_train"
      ]
    },
    {
      "cell_type": "code",
      "execution_count": 5,
      "id": "342b1b1d",
      "metadata": {
        "id": "342b1b1d",
        "outputId": "c86402ce-f2fa-480f-f030-c37abc4c8059",
        "colab": {
          "base_uri": "https://localhost:8080/"
        }
      },
      "outputs": [
        {
          "output_type": "stream",
          "name": "stdout",
          "text": [
            "Train data len:96063\n",
            "Class distributionCounter({1: 80198, 0: 15865})\n",
            "Valid data len:32021\n",
            "Class distributionCounter({1: 26724, 0: 5297})\n",
            "Test data len:32022\n",
            "Class distributionCounter({1: 26731, 0: 5291})\n"
          ]
        }
      ],
      "source": [
        "print('Train data len:'+str(len(X_train)))\n",
        "print('Class distribution'+str(Counter(y_train)))\n",
        "print('Valid data len:'+str(len(X_val)))\n",
        "print('Class distribution'+ str(Counter(y_val)))\n",
        "print('Test data len:'+str(len(X_test)))\n",
        "print('Class distribution'+ str(Counter(y_test)))"
      ]
    },
    {
      "cell_type": "markdown",
      "id": "f702b264",
      "metadata": {
        "id": "f702b264"
      },
      "source": [
        "### vectorize a text corpus, by turning each text into either a sequence of integers using keras oov tokenizer\n",
        "- num_words : the maximum number of words to keep, based on word frequency. \n"
      ]
    },
    {
      "cell_type": "code",
      "execution_count": 6,
      "id": "8d7b6007",
      "metadata": {
        "id": "8d7b6007",
        "outputId": "482ac417-392e-498a-af6e-a552e416dcb3",
        "colab": {
          "base_uri": "https://localhost:8080/"
        }
      },
      "outputs": [
        {
          "output_type": "stream",
          "name": "stdout",
          "text": [
            "[[4, 1800, 13]]\n"
          ]
        }
      ],
      "source": [
        "num_words = 50000 #the maximum number of words to keep, based on word frequency. Only the most common num_words-1 words will be kept\n",
        "\n",
        "tokenizer = Tokenizer(num_words=num_words,oov_token=\"unk\")\n",
        "tokenizer.fit_on_texts(X_train)\n",
        "\n",
        "\n",
        "print(str(tokenizer.texts_to_sequences(['coffee pretzel tea'])))"
      ]
    },
    {
      "cell_type": "markdown",
      "id": "d00ced54",
      "metadata": {
        "id": "d00ced54"
      },
      "source": [
        "### create train,validation and test tensorflow datasets"
      ]
    },
    {
      "cell_type": "code",
      "execution_count": 7,
      "id": "d2a07c7c",
      "metadata": {
        "id": "d2a07c7c",
        "outputId": "14faf042-27ec-464e-a9f7-7bdc62c77f3f",
        "colab": {
          "base_uri": "https://localhost:8080/"
        }
      },
      "outputs": [
        {
          "output_type": "stream",
          "name": "stderr",
          "text": [
            "/usr/local/lib/python3.7/dist-packages/ipykernel_launcher.py:1: VisibleDeprecationWarning: Creating an ndarray from ragged nested sequences (which is a list-or-tuple of lists-or-tuples-or ndarrays with different lengths or shapes) is deprecated. If you meant to do this, you must specify 'dtype=object' when creating the ndarray.\n",
            "  \"\"\"Entry point for launching an IPython kernel.\n",
            "/usr/local/lib/python3.7/dist-packages/ipykernel_launcher.py:2: VisibleDeprecationWarning: Creating an ndarray from ragged nested sequences (which is a list-or-tuple of lists-or-tuples-or ndarrays with different lengths or shapes) is deprecated. If you meant to do this, you must specify 'dtype=object' when creating the ndarray.\n",
            "  \n",
            "/usr/local/lib/python3.7/dist-packages/ipykernel_launcher.py:3: VisibleDeprecationWarning: Creating an ndarray from ragged nested sequences (which is a list-or-tuple of lists-or-tuples-or ndarrays with different lengths or shapes) is deprecated. If you meant to do this, you must specify 'dtype=object' when creating the ndarray.\n",
            "  This is separate from the ipykernel package so we can avoid doing imports until\n"
          ]
        },
        {
          "output_type": "stream",
          "name": "stdout",
          "text": [
            "Train data len:96063\n",
            "Class distributionCounter({1: 80198, 0: 15865})\n",
            "Validation data len:32021\n",
            "Class distributionCounter({1: 26724, 0: 5297})\n",
            "Test data len:32022\n",
            "Class distributionCounter({1: 26731, 0: 5291})\n"
          ]
        }
      ],
      "source": [
        "x_train = np.array( tokenizer.texts_to_sequences(X_train) )\n",
        "x_val = np.array( tokenizer.texts_to_sequences(X_val) )\n",
        "x_test  = np.array( tokenizer.texts_to_sequences(X_test) )\n",
        "\n",
        "\n",
        "\n",
        "x_train = pad_sequences(x_train, padding='post', maxlen=100)\n",
        "x_val = pad_sequences(x_val, padding='post', maxlen=100)\n",
        "x_test = pad_sequences(x_test, padding='post', maxlen=100)\n",
        "\n",
        "\n",
        "train_labels = np.asarray(y_train)\n",
        "val_labels = np.asarray(y_val)\n",
        "test_labels = np.asarray(y_test)\n",
        "\n",
        "print('Train data len:'+str(len(x_train)))\n",
        "print('Class distribution'+str(Counter(train_labels)))\n",
        "\n",
        "print('Validation data len:'+str(len(x_val)))\n",
        "print('Class distribution'+str(Counter(val_labels)))\n",
        "\n",
        "print('Test data len:'+str(len(x_test)))\n",
        "print('Class distribution'+str(Counter(test_labels)))\n",
        "\n",
        "\n",
        "train_ds = tf.data.Dataset.from_tensor_slices((x_train,train_labels))\n",
        "val_ds = tf.data.Dataset.from_tensor_slices((x_val,val_labels))\n",
        "test_ds = tf.data.Dataset.from_tensor_slices((x_test,test_labels))"
      ]
    },
    {
      "cell_type": "code",
      "execution_count": 8,
      "id": "7911048e",
      "metadata": {
        "id": "7911048e",
        "outputId": "13dbab91-e5cf-4918-a9ec-78f489f3d9db",
        "colab": {
          "base_uri": "https://localhost:8080/"
        }
      },
      "outputs": [
        {
          "output_type": "stream",
          "name": "stdout",
          "text": [
            "======Train dataset ====\n",
            "tf.Tensor(\n",
            "[ 1162    13   173   139    13  1943   139    13    24  1787  1064  3535\n",
            "  1072   854 19596  3151 10488  1059    36    13   933     9    17    71\n",
            "   102    13   571   313  1272   103   102   700  1072  1059  1176     0\n",
            "     0     0     0     0     0     0     0     0     0     0     0     0\n",
            "     0     0     0     0     0     0     0     0     0     0     0     0\n",
            "     0     0     0     0     0     0     0     0     0     0     0     0\n",
            "     0     0     0     0     0     0     0     0     0     0     0     0\n",
            "     0     0     0     0     0     0     0     0     0     0     0     0\n",
            "     0     0     0     0], shape=(100,), dtype=int32) tf.Tensor(0, shape=(), dtype=int64)\n",
            "======Validation dataset ====\n",
            "tf.Tensor(\n",
            "[  158   285   770    41  2067  7256   320   106   574  3374    41   101\n",
            "    41   607  2997     7   352   250    37  1478  2217   462     7   406\n",
            "    41   532  6709    42    41   322   124   244    41  3712     3   326\n",
            "    41   770   285  5301  1427    41   175   613    24    27  5046  1427\n",
            "    14   240 29164    41   101  1424  2176  1848   320  1427  6639     3\n",
            "   389   510    41    55    41   175     0     0     0     0     0     0\n",
            "     0     0     0     0     0     0     0     0     0     0     0     0\n",
            "     0     0     0     0     0     0     0     0     0     0     0     0\n",
            "     0     0     0     0], shape=(100,), dtype=int32) tf.Tensor(1, shape=(), dtype=int64)\n",
            "======Test dataset ====\n",
            "tf.Tensor(\n",
            "[    8  2397  3119  2041   193    10  1979   226 13948   824    61  2397\n",
            "   241   241   486  2313   221  1112    93     8  3535    17   112   824\n",
            "   267  4156   106    93   391     0     0     0     0     0     0     0\n",
            "     0     0     0     0     0     0     0     0     0     0     0     0\n",
            "     0     0     0     0     0     0     0     0     0     0     0     0\n",
            "     0     0     0     0     0     0     0     0     0     0     0     0\n",
            "     0     0     0     0     0     0     0     0     0     0     0     0\n",
            "     0     0     0     0     0     0     0     0     0     0     0     0\n",
            "     0     0     0     0], shape=(100,), dtype=int32) tf.Tensor(1, shape=(), dtype=int64)\n"
          ]
        }
      ],
      "source": [
        "count =0\n",
        "print('======Train dataset ====')\n",
        "for value,label in train_ds:\n",
        "    count += 1\n",
        "    print(value,label)\n",
        "    if count==1:\n",
        "        break\n",
        "count =0\n",
        "print('======Validation dataset ====')\n",
        "for value,label in val_ds:\n",
        "    count += 1\n",
        "    print(value,label)\n",
        "    if count==1:\n",
        "        break\n",
        "count =0\n",
        "print('======Test dataset ====')\n",
        "for value,label in test_ds:\n",
        "    count += 1\n",
        "    print(value,label)\n",
        "    if count==1:\n",
        "        break  "
      ]
    },
    {
      "cell_type": "markdown",
      "id": "c7a38e9a",
      "metadata": {
        "id": "c7a38e9a"
      },
      "source": [
        "### create a simple LSTM based sentiment classification model"
      ]
    },
    {
      "cell_type": "code",
      "execution_count": 9,
      "id": "27f3ad21",
      "metadata": {
        "id": "27f3ad21",
        "outputId": "eac58814-ff18-4737-88f3-1c33cceb85ab",
        "colab": {
          "base_uri": "https://localhost:8080/"
        }
      },
      "outputs": [
        {
          "output_type": "stream",
          "name": "stdout",
          "text": [
            "Model: \"sequential\"\n",
            "_________________________________________________________________\n",
            " Layer (type)                Output Shape              Param #   \n",
            "=================================================================\n",
            " embedding (Embedding)       (None, 100, 16)           800016    \n",
            "                                                                 \n",
            " dropout (Dropout)           (None, 100, 16)           0         \n",
            "                                                                 \n",
            " lstm (LSTM)                 (None, 100, 16)           2112      \n",
            "                                                                 \n",
            " flatten (Flatten)           (None, 1600)              0         \n",
            "                                                                 \n",
            " dense (Dense)               (None, 512)               819712    \n",
            "                                                                 \n",
            " dropout_1 (Dropout)         (None, 512)               0         \n",
            "                                                                 \n",
            " dense_1 (Dense)             (None, 8)                 4104      \n",
            "                                                                 \n",
            " dropout_2 (Dropout)         (None, 8)                 0         \n",
            "                                                                 \n",
            " dense_2 (Dense)             (None, 1)                 9         \n",
            "                                                                 \n",
            "=================================================================\n",
            "Total params: 1,625,953\n",
            "Trainable params: 1,625,953\n",
            "Non-trainable params: 0\n",
            "_________________________________________________________________\n"
          ]
        }
      ],
      "source": [
        "max_features =50000 # size of vocabulary\n",
        "embedding_dim =16\n",
        "sequence_length = 100\n",
        "\n",
        "model = tf.keras.Sequential()\n",
        "model.add(tf.keras.layers.Embedding(max_features +1, embedding_dim, input_length=sequence_length,\\\n",
        "                                    embeddings_regularizer = regularizers.l2(0.005))) \n",
        "model.add(tf.keras.layers.Dropout(0.4))\n",
        "\n",
        "model.add(tf.keras.layers.LSTM(embedding_dim,dropout=0.2, recurrent_dropout=0.2,return_sequences=True,\\\n",
        "                                                             kernel_regularizer=regularizers.l2(0.005),\\\n",
        "                                                             bias_regularizer=regularizers.l2(0.005)))\n",
        "\n",
        "model.add(tf.keras.layers.Flatten())\n",
        "\n",
        "model.add(tf.keras.layers.Dense(512, activation='relu',\\\n",
        "                                kernel_regularizer=regularizers.l2(0.001),\\\n",
        "                                bias_regularizer=regularizers.l2(0.001),))\n",
        "model.add(tf.keras.layers.Dropout(0.4))\n",
        "\n",
        "model.add(tf.keras.layers.Dense(8, activation='relu',\\\n",
        "                                kernel_regularizer=regularizers.l2(0.001),\\\n",
        "                                bias_regularizer=regularizers.l2(0.001),))\n",
        "model.add(tf.keras.layers.Dropout(0.4))\n",
        "\n",
        "\n",
        "model.add(tf.keras.layers.Dense(1,activation='sigmoid'))\n",
        "                               \n",
        "\n",
        "\n",
        "\n",
        "model.summary()\n",
        "model.compile(loss=tf.keras.losses.BinaryCrossentropy(),optimizer=tf.keras.optimizers.Adam(1e-3),metrics=[tf.keras.metrics.BinaryAccuracy()])"
      ]
    },
    {
      "cell_type": "markdown",
      "id": "a5bab365",
      "metadata": {
        "id": "a5bab365"
      },
      "source": [
        "### model fittling"
      ]
    },
    {
      "cell_type": "code",
      "execution_count": 10,
      "id": "3d150d63",
      "metadata": {
        "id": "3d150d63",
        "outputId": "46729ba4-fedb-465a-845e-6f36723753ab",
        "colab": {
          "base_uri": "https://localhost:8080/"
        }
      },
      "outputs": [
        {
          "output_type": "stream",
          "name": "stdout",
          "text": [
            "Epoch 1/10\n",
            "94/94 [==============================] - 61s 603ms/step - loss: 1.3026 - binary_accuracy: 0.8311 - val_loss: 0.4659 - val_binary_accuracy: 0.8346\n",
            "Epoch 2/10\n",
            "94/94 [==============================] - 54s 570ms/step - loss: 0.4422 - binary_accuracy: 0.8348 - val_loss: 0.3762 - val_binary_accuracy: 0.8346\n",
            "Epoch 3/10\n",
            "94/94 [==============================] - 54s 574ms/step - loss: 0.3998 - binary_accuracy: 0.8873 - val_loss: 0.3678 - val_binary_accuracy: 0.9169\n",
            "Epoch 4/10\n",
            "94/94 [==============================] - 54s 578ms/step - loss: 0.3788 - binary_accuracy: 0.9073 - val_loss: 0.3432 - val_binary_accuracy: 0.9216\n",
            "Epoch 5/10\n",
            "94/94 [==============================] - 53s 562ms/step - loss: 0.3677 - binary_accuracy: 0.9090 - val_loss: 0.3463 - val_binary_accuracy: 0.9242\n",
            "Epoch 6/10\n",
            "94/94 [==============================] - 52s 556ms/step - loss: 0.3574 - binary_accuracy: 0.9117 - val_loss: 0.3393 - val_binary_accuracy: 0.9245\n",
            "Epoch 7/10\n",
            "94/94 [==============================] - 52s 556ms/step - loss: 0.3507 - binary_accuracy: 0.9136 - val_loss: 0.3173 - val_binary_accuracy: 0.9268\n",
            "Epoch 8/10\n",
            "94/94 [==============================] - 53s 560ms/step - loss: 0.3448 - binary_accuracy: 0.9144 - val_loss: 0.3116 - val_binary_accuracy: 0.9256\n",
            "Epoch 9/10\n",
            "94/94 [==============================] - 56s 596ms/step - loss: 0.3401 - binary_accuracy: 0.9122 - val_loss: 0.3090 - val_binary_accuracy: 0.9279\n",
            "Epoch 10/10\n",
            "94/94 [==============================] - 53s 562ms/step - loss: 0.3340 - binary_accuracy: 0.9142 - val_loss: 0.3078 - val_binary_accuracy: 0.9297\n"
          ]
        }
      ],
      "source": [
        "epochs = 10\n",
        "history = model.fit(train_ds.shuffle(5000).batch(1024),\n",
        "                    epochs= epochs ,\n",
        "                    validation_data=val_ds.batch(1024),\n",
        "                    verbose=1)"
      ]
    },
    {
      "cell_type": "code",
      "execution_count": 11,
      "id": "740bbf26",
      "metadata": {
        "id": "740bbf26",
        "outputId": "82d9fd02-fe8b-4a90-b9fc-541710de26da",
        "colab": {
          "base_uri": "https://localhost:8080/"
        }
      },
      "outputs": [
        {
          "output_type": "execute_result",
          "data": {
            "text/plain": [
              "{'binary_accuracy': [0.8311108350753784,\n",
              "  0.8348479866981506,\n",
              "  0.8872823119163513,\n",
              "  0.9072691798210144,\n",
              "  0.9089660048484802,\n",
              "  0.9117454290390015,\n",
              "  0.913598358631134,\n",
              "  0.9143791198730469,\n",
              "  0.9122138619422913,\n",
              "  0.914233386516571],\n",
              " 'loss': [1.3025542497634888,\n",
              "  0.4422155022621155,\n",
              "  0.3998012840747833,\n",
              "  0.37882745265960693,\n",
              "  0.36765870451927185,\n",
              "  0.3573700785636902,\n",
              "  0.35069093108177185,\n",
              "  0.3447801172733307,\n",
              "  0.34014108777046204,\n",
              "  0.33402469754219055],\n",
              " 'val_binary_accuracy': [0.8345773220062256,\n",
              "  0.8345773220062256,\n",
              "  0.9168983101844788,\n",
              "  0.9216451644897461,\n",
              "  0.9242371916770935,\n",
              "  0.9244558215141296,\n",
              "  0.9267980456352234,\n",
              "  0.9255800843238831,\n",
              "  0.9278910756111145,\n",
              "  0.9297336339950562],\n",
              " 'val_loss': [0.46587392687797546,\n",
              "  0.37615829706192017,\n",
              "  0.36780714988708496,\n",
              "  0.3431587517261505,\n",
              "  0.34625759720802307,\n",
              "  0.3393189311027527,\n",
              "  0.3173274099826813,\n",
              "  0.31160417199134827,\n",
              "  0.3090318739414215,\n",
              "  0.30775371193885803]}"
            ]
          },
          "metadata": {},
          "execution_count": 11
        }
      ],
      "source": [
        "history.history"
      ]
    },
    {
      "cell_type": "code",
      "execution_count": 12,
      "id": "ff7a4d49",
      "metadata": {
        "id": "ff7a4d49",
        "outputId": "509ea011-80f7-4ca9-872b-5efb6af0f825",
        "colab": {
          "base_uri": "https://localhost:8080/",
          "height": 295
        }
      },
      "outputs": [
        {
          "output_type": "display_data",
          "data": {
            "text/plain": [
              "<Figure size 432x288 with 1 Axes>"
            ],
            "image/png": "[encoded data removed]"
          },
          "metadata": {
            "needs_background": "light"
          }
        }
      ],
      "source": [
        "plt.plot(history.history['loss'], label=' training data')\n",
        "plt.plot(history.history['val_loss'], label='validation data')\n",
        "plt.title('Loss for Text Classification')\n",
        "plt.ylabel('Loss value')\n",
        "plt.xlabel('No. epoch')\n",
        "plt.legend(loc=\"upper left\")\n",
        "plt.show()"
      ]
    },
    {
      "cell_type": "code",
      "execution_count": 13,
      "id": "c5927327",
      "metadata": {
        "id": "c5927327",
        "outputId": "06bd8f7d-79d4-41ad-a43b-ac589c893fc1",
        "colab": {
          "base_uri": "https://localhost:8080/",
          "height": 295
        }
      },
      "outputs": [
        {
          "output_type": "display_data",
          "data": {
            "text/plain": [
              "<Figure size 432x288 with 1 Axes>"
            ],
            "image/png": "[encoded data removed]"
          },
          "metadata": {
            "needs_background": "light"
          }
        }
      ],
      "source": [
        "plt.plot(history.history['binary_accuracy'], label=' training data')\n",
        "plt.plot(history.history['val_binary_accuracy'], label='validation data')\n",
        "plt.title('Accuracy for Text Classification')\n",
        "plt.ylabel('Accuracy value')\n",
        "plt.xlabel('No. epoch')\n",
        "plt.legend(loc=\"upper left\")\n",
        "plt.show()"
      ]
    },
    {
      "cell_type": "markdown",
      "id": "ec51a674",
      "metadata": {
        "id": "ec51a674"
      },
      "source": [
        "### Lets save our model and tokenizer"
      ]
    },
    {
      "cell_type": "code",
      "execution_count": 14,
      "id": "72bcf070",
      "metadata": {
        "id": "72bcf070"
      },
      "outputs": [],
      "source": [
        "model.save('./tf_lstmmodel.h5') \n",
        "json_string = tokenizer.to_json()"
      ]
    },
    {
      "cell_type": "code",
      "execution_count": 15,
      "id": "84727151",
      "metadata": {
        "id": "84727151"
      },
      "outputs": [],
      "source": [
        "import json\n",
        "with open('./tokenizer.json', 'w') as outfile:\n",
        "    json.dump(json_string, outfile)"
      ]
    },
    {
      "cell_type": "code",
      "execution_count": 16,
      "id": "735a4926",
      "metadata": {
        "id": "735a4926"
      },
      "outputs": [],
      "source": [
        "valid_predict= model.predict(x_val)"
      ]
    },
    {
      "cell_type": "code",
      "execution_count": 17,
      "id": "5d924de0",
      "metadata": {
        "id": "5d924de0",
        "outputId": "349d7fcf-13bf-4462-b346-b9c2cdb5106c",
        "colab": {
          "base_uri": "https://localhost:8080/"
        }
      },
      "outputs": [
        {
          "output_type": "stream",
          "name": "stdout",
          "text": [
            "[[0.99999595]\n",
            " [0.9999191 ]\n",
            " [1.        ]\n",
            " [0.9985198 ]\n",
            " [0.9999619 ]\n",
            " [0.97671247]\n",
            " [0.7107624 ]\n",
            " [0.8322674 ]\n",
            " [0.9984058 ]\n",
            " [0.9995674 ]]\n"
          ]
        }
      ],
      "source": [
        "print(valid_predict[:10])"
      ]
    },
    {
      "cell_type": "markdown",
      "id": "b193e97e",
      "metadata": {
        "id": "b193e97e"
      },
      "source": [
        "### To find optimal threshold, draw ROC curve"
      ]
    },
    {
      "cell_type": "code",
      "execution_count": 18,
      "id": "18824f97",
      "metadata": {
        "id": "18824f97"
      },
      "outputs": [],
      "source": [
        "def plot_roc(name, labels, predictions, **kwargs):\n",
        "    fp, tp, thresholds = sklearn.metrics.roc_curve(labels, predictions)\n",
        "    plt.plot(fp, tp, label=name, linewidth=2, **kwargs)\n",
        "    plt.xlabel('False positives Rate')\n",
        "    plt.ylabel('True positives Rate')\n",
        "    plt.xlim([-0.03, 1.0])\n",
        "    plt.ylim([0.0, 1.03])\n",
        "    plt.grid(True)\n",
        "    thresholdsLength = len(thresholds)\n",
        "    thresholds_every = 1000\n",
        "    colorMap = plt.get_cmap('jet', thresholdsLength)\n",
        "    for i in range(0, thresholdsLength, thresholds_every):\n",
        "        threshold_value_with_max_four_decimals = str(thresholds[i])[:5]\n",
        "        plt.text(fp[i] - 0.03, tp[i] + 0.001, threshold_value_with_max_four_decimals, fontdict={'size': 15}, color=colorMap(i/thresholdsLength));\n",
        "\n",
        "    ax = plt.gca()\n",
        "    ax.set_aspect('equal')"
      ]
    },
    {
      "cell_type": "code",
      "execution_count": 19,
      "id": "9ba099ae",
      "metadata": {
        "id": "9ba099ae"
      },
      "outputs": [],
      "source": [
        "mpl.rcParams['figure.figsize'] = (10, 10)\n",
        "\n",
        "colors = plt.rcParams['axes.prop_cycle'].by_key()['color']"
      ]
    },
    {
      "cell_type": "code",
      "execution_count": 20,
      "id": "ea242451",
      "metadata": {
        "id": "ea242451",
        "outputId": "9e877fe4-d04c-40f2-9995-31954791247e",
        "colab": {
          "base_uri": "https://localhost:8080/",
          "height": 624
        }
      },
      "outputs": [
        {
          "output_type": "execute_result",
          "data": {
            "text/plain": [
              "<matplotlib.legend.Legend at 0x7f23ba5e5290>"
            ]
          },
          "metadata": {},
          "execution_count": 20
        },
        {
          "output_type": "display_data",
          "data": {
            "text/plain": [
              "<Figure size 720x720 with 1 Axes>"
            ],
            "image/png": "[encoded data removed]"
          },
          "metadata": {
            "needs_background": "light"
          }
        }
      ],
      "source": [
        "plot_roc(\"Valid Baseline\", val_labels, valid_predict, color=colors[0], linestyle='--')\n",
        "plt.legend(loc='lower right')"
      ]
    },
    {
      "cell_type": "code",
      "execution_count": 21,
      "id": "da40725a",
      "metadata": {
        "id": "da40725a",
        "outputId": "ec589e6f-f315-44cd-99d9-fa91af7cf3e8",
        "colab": {
          "base_uri": "https://localhost:8080/"
        }
      },
      "outputs": [
        {
          "output_type": "stream",
          "name": "stdout",
          "text": [
            "[0.         0.05620416 0.05848675 ... 0.98211346 0.98211346 1.        ]\n",
            "[0.00000000e+00 1.88786105e-04 1.88786105e-04 ... 4.17594865e-01\n",
            " 4.18161223e-01 1.00000000e+00]\n",
            "[2.         1.         0.9999999  ... 0.40888903 0.4088847  0.40888458]\n",
            "0.9596761490358501\n",
            "Threshold value is: 0.8766271\n"
          ]
        }
      ],
      "source": [
        "y_true = y_val\n",
        "y_scores = valid_predict\n",
        "\n",
        "fpr, tpr, thresholds = metrics.roc_curve(y_true, y_scores)\n",
        "print(tpr)\n",
        "print(fpr)\n",
        "print(thresholds)\n",
        "print(metrics.roc_auc_score(y_true, y_scores))\n",
        "optimal_idx = np.argmax(tpr - fpr)\n",
        "optimal_threshold = thresholds[optimal_idx]\n",
        "print(\"Threshold value is:\", optimal_threshold)"
      ]
    },
    {
      "cell_type": "code",
      "execution_count": 22,
      "id": "563de868",
      "metadata": {
        "id": "563de868",
        "outputId": "4a2c04a5-e504-4a4d-997f-78a63c7142ec",
        "colab": {
          "base_uri": "https://localhost:8080/"
        }
      },
      "outputs": [
        {
          "output_type": "stream",
          "name": "stdout",
          "text": [
            "Model: \"sequential\"\n",
            "_________________________________________________________________\n",
            " Layer (type)                Output Shape              Param #   \n",
            "=================================================================\n",
            " embedding (Embedding)       (None, 100, 16)           800016    \n",
            "                                                                 \n",
            " dropout (Dropout)           (None, 100, 16)           0         \n",
            "                                                                 \n",
            " lstm (LSTM)                 (None, 100, 16)           2112      \n",
            "                                                                 \n",
            " flatten (Flatten)           (None, 1600)              0         \n",
            "                                                                 \n",
            " dense (Dense)               (None, 512)               819712    \n",
            "                                                                 \n",
            " dropout_1 (Dropout)         (None, 512)               0         \n",
            "                                                                 \n",
            " dense_1 (Dense)             (None, 8)                 4104      \n",
            "                                                                 \n",
            " dropout_2 (Dropout)         (None, 8)                 0         \n",
            "                                                                 \n",
            " dense_2 (Dense)             (None, 1)                 9         \n",
            "                                                                 \n",
            "=================================================================\n",
            "Total params: 1,625,953\n",
            "Trainable params: 1,625,953\n",
            "Non-trainable params: 0\n",
            "_________________________________________________________________\n"
          ]
        }
      ],
      "source": [
        "new_model = tf.keras.models.load_model('./tf_lstmmodel.h5')\n",
        "new_model.summary()"
      ]
    },
    {
      "cell_type": "markdown",
      "id": "3498ae01",
      "metadata": {
        "id": "3498ae01"
      },
      "source": [
        "### load the model we build and test on test data"
      ]
    },
    {
      "cell_type": "code",
      "execution_count": 23,
      "id": "79612f73",
      "metadata": {
        "id": "79612f73"
      },
      "outputs": [],
      "source": [
        "with open('./tokenizer.json') as json_file:\n",
        "    json_string = json.load(json_file)\n",
        "tokenizer1 = tf.keras.preprocessing.text.tokenizer_from_json(json_string)"
      ]
    },
    {
      "cell_type": "code",
      "execution_count": 24,
      "id": "c3d3c466",
      "metadata": {
        "id": "c3d3c466"
      },
      "outputs": [],
      "source": [
        "predictions = new_model.predict(x_test)"
      ]
    },
    {
      "cell_type": "markdown",
      "id": "1c6074c6",
      "metadata": {
        "id": "1c6074c6"
      },
      "source": [
        "### we will use the optimal threshold to have binary classification"
      ]
    },
    {
      "cell_type": "code",
      "execution_count": 39,
      "id": "49a43011",
      "metadata": {
        "id": "49a43011"
      },
      "outputs": [],
      "source": [
        "predictions_binary= predictions\n",
        "predictions_binary = np.where((predictions_binary >= 0.87),1,predictions_binary)\n",
        "predictions_binary = np.where((predictions_binary < 0.87),0,predictions_binary)"
      ]
    },
    {
      "cell_type": "markdown",
      "id": "8e833999",
      "metadata": {
        "id": "8e833999"
      },
      "source": [
        "### confusion matrix"
      ]
    },
    {
      "cell_type": "code",
      "execution_count": 40,
      "id": "3d9da8f4",
      "metadata": {
        "id": "3d9da8f4",
        "outputId": "630cc917-35e8-45c8-ce9a-50bd97692cf0",
        "colab": {
          "base_uri": "https://localhost:8080/"
        }
      },
      "outputs": [
        {
          "output_type": "stream",
          "name": "stdout",
          "text": [
            "              precision    recall  f1-score   support\n",
            "\n",
            "           0       0.65      0.90      0.76      5291\n",
            "           1       0.98      0.91      0.94     26731\n",
            "\n",
            "    accuracy                           0.90     32022\n",
            "   macro avg       0.82      0.90      0.85     32022\n",
            "weighted avg       0.92      0.90      0.91     32022\n",
            "\n"
          ]
        }
      ],
      "source": [
        "print(classification_report(y_test,predictions_binary))"
      ]
    },
    {
      "cell_type": "code",
      "source": [
        "predictions_binary= predictions\n",
        "predictions_binary = np.where((predictions_binary >= 0.5),1,predictions_binary)\n",
        "predictions_binary = np.where((predictions_binary < 0.5),0,predictions_binary)"
      ],
      "metadata": {
        "id": "mCfPzqqHzt0R"
      },
      "id": "mCfPzqqHzt0R",
      "execution_count": 41,
      "outputs": []
    },
    {
      "cell_type": "code",
      "source": [
        "print(classification_report(y_test,predictions_binary))"
      ],
      "metadata": {
        "colab": {
          "base_uri": "https://localhost:8080/"
        },
        "id": "wrK6XU0vzvLO",
        "outputId": "d7b9fb0f-a7f6-4d25-8687-11b2cdfb7a50"
      },
      "id": "wrK6XU0vzvLO",
      "execution_count": 42,
      "outputs": [
        {
          "output_type": "stream",
          "name": "stdout",
          "text": [
            "              precision    recall  f1-score   support\n",
            "\n",
            "           0       0.80      0.75      0.78      5291\n",
            "           1       0.95      0.96      0.96     26731\n",
            "\n",
            "    accuracy                           0.93     32022\n",
            "   macro avg       0.88      0.86      0.87     32022\n",
            "weighted avg       0.93      0.93      0.93     32022\n",
            "\n"
          ]
        }
      ]
    }
  ],
  "metadata": {
    "kernelspec": {
      "display_name": "Python 3 (ipykernel)",
      "language": "python",
      "name": "python3"
    },
    "language_info": {
      "codemirror_mode": {
        "name": "ipython",
        "version": 3
      },
      "file_extension": ".py",
      "mimetype": "text/x-python",
      "name": "python",
      "nbconvert_exporter": "python",
      "pygments_lexer": "ipython3",
      "version": "3.7.6"
    },
    "colab": {
      "name": "LSTM_epoch10.ipynb",
      "provenance": []
    }
  },
  "nbformat": 4,
  "nbformat_minor": 5
}