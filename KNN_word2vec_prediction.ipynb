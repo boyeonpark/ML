{
  "nbformat": 4,
  "nbformat_minor": 0,
  "metadata": {
    "colab": {
      "name": "KNN-word2vec-prediction.ipynb",
      "provenance": []
    },
    "kernelspec": {
      "name": "python3",
      "display_name": "Python 3"
    },
    "language_info": {
      "name": "python"
    }
  },
  "cells": [
    {
      "cell_type": "code",
      "execution_count": 1,
      "metadata": {
        "colab": {
          "base_uri": "https://localhost:8080/"
        },
        "id": "ljy9pHwuDBTN",
        "outputId": "4be80c43-fc45-4b16-f4d8-06bcb6f2490a"
      },
      "outputs": [
        {
          "output_type": "stream",
          "name": "stdout",
          "text": [
            "Mounted at /content/drive\n"
          ]
        }
      ],
      "source": [
        "from google.colab import drive\n",
        "drive.mount('/content/drive')"
      ]
    },
    {
      "cell_type": "code",
      "source": [
        "import pandas as pd \n",
        "import numpy as np\n",
        "import sklearn\n",
        "from sklearn.utils import class_weight\n",
        "from sklearn import model_selection, preprocessing, linear_model, naive_bayes, metrics, svm\n",
        "from sklearn.feature_extraction.text import TfidfVectorizer, CountVectorizer\n",
        "from sklearn.feature_extraction.text import TfidfTransformer\n",
        "from sklearn import decomposition, ensemble\n",
        "from sklearn.pipeline import Pipeline\n",
        "from sklearn.metrics import accuracy_score\n",
        "from sklearn import tree\n",
        "from sklearn.metrics import classification_report\n",
        "from sklearn.metrics import confusion_matrix\n",
        "from sklearn.metrics import cohen_kappa_score\n",
        "from sklearn.metrics import precision_score\n",
        "from sklearn.model_selection import cross_validate\n",
        "from sklearn.linear_model import SGDClassifier\n",
        "from sklearn.metrics import matthews_corrcoef\n",
        "from sklearn.metrics import roc_auc_score\n",
        "from sklearn.neighbors import KNeighborsClassifier\n",
        "from sklearn.model_selection import StratifiedKFold\n",
        "from sklearn.metrics import balanced_accuracy_score, recall_score, f1_score\n",
        "from sklearn.metrics import make_scorer\n",
        "from sklearn.ensemble import AdaBoostClassifier\n",
        "from sklearn.ensemble import ExtraTreesClassifier\n",
        "import time"
      ],
      "metadata": {
        "id": "MtNDT7RoD2kg"
      },
      "execution_count": 2,
      "outputs": []
    },
    {
      "cell_type": "code",
      "source": [
        "import re    # for regular expressions \n",
        "import nltk  # for text manipulation \n",
        "import string \n",
        "import warnings \n",
        "import numpy as np \n",
        "import pandas as pd \n",
        "import seaborn as sns \n",
        "import matplotlib.pyplot as plt  \n",
        "import gensim\n",
        "\n",
        "pd.set_option(\"display.max_colwidth\", 200) \n",
        "warnings.filterwarnings(\"ignore\", category=DeprecationWarning) \n",
        "\n",
        "%matplotlib inline"
      ],
      "metadata": {
        "id": "dDPTqPQrD5dp"
      },
      "execution_count": 3,
      "outputs": []
    },
    {
      "cell_type": "code",
      "source": [
        "X_train = pd.read_csv('/content/drive/MyDrive/Colab Notebooks/X_train.csv')\n",
        "X_test = pd.read_csv('/content/drive/MyDrive/Colab Notebooks/X_test.csv')\n",
        "y_train = pd.read_csv('/content/drive/MyDrive/Colab Notebooks/y_train.csv')\n",
        "y_test = pd.read_csv('/content/drive/MyDrive/Colab Notebooks/y_test.csv')\n",
        "X_val = pd.read_csv('/content/drive/MyDrive/Colab Notebooks/X_val.csv')\n",
        "y_val = pd.read_csv('/content/drive/MyDrive/Colab Notebooks/y_val.csv')"
      ],
      "metadata": {
        "id": "JZxFPYlYD7xY"
      },
      "execution_count": 4,
      "outputs": []
    },
    {
      "cell_type": "code",
      "source": [
        "X_train = X_train.iloc[:,0]\n",
        "X_test = X_test.iloc[:,0]\n",
        "y_train = y_train.iloc[:,0]\n",
        "y_test = y_test.iloc[:,0]\n",
        "X_val = X_val.iloc[:,0]\n",
        "y_val = y_val.iloc[:,0]\n",
        "X_train"
      ],
      "metadata": {
        "colab": {
          "base_uri": "https://localhost:8080/"
        },
        "id": "Rxe-fjZbHiFu",
        "outputId": "44fd72c6-72ec-45cf-fd52-03652e0a7921"
      },
      "execution_count": 5,
      "outputs": [
        {
          "output_type": "execute_result",
          "data": {
            "text/plain": [
              "0        worse tea fresh green tea indeed green tea time produced poor storing condition sealed enviroment exposed extensively air make tea lost flavor dont know old tea experience least 35 years old loose...\n",
              "1        ive tasted best real things wonderful dreadfully high fat carbs calories includes dressings dips sauces yes ive added goes salad oil fat content calories soar expect fatfree substitute anything cl...\n",
              "2        love taste good ginger snap cookie saw offered jumped thinking easy review would wellas taste great true ginger snap flavor opened bag smell made mouth water cookie extremely hard really hard time...\n",
              "3        absolutely love coachs oatmeal hated oatmeal till tasted coach oatmeal first 2 bags bought costconow costco doesnt carry anymoreso went line find coach oatmeal amazon carry happy found themi oatme...\n",
              "4        normally dont go instant coffees delicious instructions suggest 4 teaspoons 68oz hot water used 5 teaspoons 12oz water dollop silk soy creamer made delicious peppermint mocha low fat high taste st...\n",
              "                                                                                                          ...                                                                                                   \n",
              "96058    ive loved graham crackers since kid many brands arent good used enter back nature golden honey oat grahams crispy hearty whole grain nutty taste great coffee tea bit crispier elf name brand graham...\n",
              "96059    decided give try since kcup coffee prices going brewed large mug tumbler size keurig b70 isnt dark peets ekobrew adapter might peets darker roast stronger green mtn colombian maybe dark magicbr br...\n",
              "96060        excellent coffee either brewed hot ice drink lot ice coffee love dark magic great taste boldness never gives heartburn fits morning coffee time evenings patio get coffee like bold excellent brews\n",
              "96061    reading useful negative review times comment things knowbr br heres knowbr br start supplementing formula around 8 months wifes breast milk supply started decrease daughter took formula without pr...\n",
              "96062    excited high protein pretzels opened tasted tasted burned inspected rest bags package look dark brown dont know received bad batch also ordered spelt pretzels vitacost lower priced like price sudd...\n",
              "Name: text, Length: 96063, dtype: object"
            ]
          },
          "metadata": {},
          "execution_count": 5
        }
      ]
    },
    {
      "cell_type": "code",
      "source": [
        "df = pd.DataFrame(data=[X_train, y_train], index=[\"text\", \"label\"]).T\n",
        "df = df.append(pd.DataFrame(data=[X_val, y_val], index=[\"text\", \"label\"]).T)\n",
        "df = df.append(pd.DataFrame(data=[X_test, y_test], index=[\"text\", \"label\"]).T)"
      ],
      "metadata": {
        "id": "xlRUsDutIC0z"
      },
      "execution_count": 6,
      "outputs": []
    },
    {
      "cell_type": "code",
      "source": [
        "model_w2v = gensim.models.Word2Vec.load(\"/content/drive/MyDrive/Colab Notebooks/word2vec.model\")"
      ],
      "metadata": {
        "id": "XMtzRIPjILZX"
      },
      "execution_count": 7,
      "outputs": []
    },
    {
      "cell_type": "code",
      "source": [
        "model_w2v.wv.most_similar(positive=\"tea\")"
      ],
      "metadata": {
        "colab": {
          "base_uri": "https://localhost:8080/"
        },
        "id": "YzuwnTRhIS6l",
        "outputId": "250a715b-cac5-44e7-f072-97a97bd4726d"
      },
      "execution_count": 8,
      "outputs": [
        {
          "output_type": "execute_result",
          "data": {
            "text/plain": [
              "[('teas', 0.7136606574058533),\n",
              " ('chai', 0.604446291923523),\n",
              " ('hrefhttpwwwamazoncomgpproductb0012bzghsstash', 0.5814846158027649),\n",
              " ('higgins', 0.5766370892524719),\n",
              " ('hrefhttpwwwamazoncomgpproductb000f4h5qitwinings', 0.5731595158576965),\n",
              " ('lipton', 0.5673545598983765),\n",
              " ('rejuvination', 0.5584450364112854),\n",
              " ('herbal', 0.5564500689506531),\n",
              " ('burke', 0.556394100189209),\n",
              " ('asinb000cqe3nm', 0.5519647598266602)]"
            ]
          },
          "metadata": {},
          "execution_count": 8
        }
      ]
    },
    {
      "cell_type": "code",
      "source": [
        "model_w2v.wv.most_similar(positive=\"terrible\")"
      ],
      "metadata": {
        "colab": {
          "base_uri": "https://localhost:8080/"
        },
        "id": "3fHmHhObZ6Eo",
        "outputId": "2939bb83-2b0e-490c-96b6-8a6dc2782e5a"
      },
      "execution_count": 9,
      "outputs": [
        {
          "output_type": "execute_result",
          "data": {
            "text/plain": [
              "[('piecebatchbag', 0.5067934393882751),\n",
              " ('horrible', 0.5022017359733582),\n",
              " ('bad', 0.4886583387851715),\n",
              " ('corpoate', 0.46941494941711426),\n",
              " ('facialno', 0.4491904377937317),\n",
              " ('hypomag', 0.4458191692829132),\n",
              " ('instaed', 0.4442039132118225),\n",
              " ('immitation', 0.443316251039505),\n",
              " ('sucralosejust', 0.4379229247570038),\n",
              " ('poor', 0.4314398169517517)]"
            ]
          },
          "metadata": {},
          "execution_count": 9
        }
      ]
    },
    {
      "cell_type": "code",
      "source": [
        "df.iloc[0,:]"
      ],
      "metadata": {
        "colab": {
          "base_uri": "https://localhost:8080/"
        },
        "id": "ZQVosKqpjy1c",
        "outputId": "b990b0bb-8a88-443e-8748-9495158b0d50"
      },
      "execution_count": 10,
      "outputs": [
        {
          "output_type": "execute_result",
          "data": {
            "text/plain": [
              "text     worse tea fresh green tea indeed green tea time produced poor storing condition sealed enviroment exposed extensively air make tea lost flavor dont know old tea experience least 35 years old loose...\n",
              "label                                                                                                                                                                                                          0\n",
              "Name: 0, dtype: object"
            ]
          },
          "metadata": {},
          "execution_count": 10
        }
      ]
    },
    {
      "cell_type": "code",
      "source": [
        "tokenized_reviews = X_train.apply(lambda x: x.split()) # tokenizing "
      ],
      "metadata": {
        "id": "2AAs9VUBirnh"
      },
      "execution_count": 11,
      "outputs": []
    },
    {
      "cell_type": "code",
      "source": [
        "tokenized_reviews.shape"
      ],
      "metadata": {
        "colab": {
          "base_uri": "https://localhost:8080/"
        },
        "id": "YxUBRRhMrwzQ",
        "outputId": "80c721c4-f16b-4975-a192-2deef469678f"
      },
      "execution_count": 12,
      "outputs": [
        {
          "output_type": "execute_result",
          "data": {
            "text/plain": [
              "(96063,)"
            ]
          },
          "metadata": {},
          "execution_count": 12
        }
      ]
    },
    {
      "cell_type": "code",
      "source": [
        "def word_vector(tokens, size):\n",
        "    vec = np.zeros(size).reshape((1, size))\n",
        "    count = 0\n",
        "    for word in tokens:\n",
        "        try:\n",
        "            vec += model_w2v[word].reshape((1, size))\n",
        "            count += 1.\n",
        "        except KeyError:  # handling the case where the token is not in vocabulary\n",
        "            continue\n",
        "    if count != 0:\n",
        "        vec /= count\n",
        "    return vec"
      ],
      "metadata": {
        "id": "cSrPb4Lwfjbn"
      },
      "execution_count": 13,
      "outputs": []
    },
    {
      "cell_type": "code",
      "source": [
        "wordvec_arrays = np.zeros((len(tokenized_reviews), 200)) \n"
      ],
      "metadata": {
        "id": "WPwzcrZ8ilTD"
      },
      "execution_count": 15,
      "outputs": []
    },
    {
      "cell_type": "code",
      "source": [
        "for i in range(len(tokenized_reviews)):\n",
        "    wordvec_arrays[i,:] = word_vector(tokenized_reviews[i], 200)"
      ],
      "metadata": {
        "id": "Ikvwl0MFjW6n"
      },
      "execution_count": 16,
      "outputs": []
    },
    {
      "cell_type": "code",
      "source": [
        "wordvec_arrays.shape"
      ],
      "metadata": {
        "colab": {
          "base_uri": "https://localhost:8080/"
        },
        "id": "c9jdMiqFr4aB",
        "outputId": "0d596f80-4972-4cfa-97e1-630daa2f6640"
      },
      "execution_count": 17,
      "outputs": [
        {
          "output_type": "execute_result",
          "data": {
            "text/plain": [
              "(96063, 200)"
            ]
          },
          "metadata": {},
          "execution_count": 17
        }
      ]
    },
    {
      "cell_type": "code",
      "source": [
        "wordvec_df = pd.DataFrame(wordvec_arrays)\n",
        "wordvec_df.shape"
      ],
      "metadata": {
        "colab": {
          "base_uri": "https://localhost:8080/"
        },
        "id": "PngQSQSBoEvs",
        "outputId": "7675d1d0-329c-4606-fa71-fbdf4535686a"
      },
      "execution_count": 18,
      "outputs": [
        {
          "output_type": "execute_result",
          "data": {
            "text/plain": [
              "(96063, 200)"
            ]
          },
          "metadata": {},
          "execution_count": 18
        }
      ]
    },
    {
      "cell_type": "code",
      "source": [
        "from sklearn.neighbors import KNeighborsClassifier\n",
        "model3 = KNeighborsClassifier()\n",
        "model3.fit(wordvec_df,y_train)"
      ],
      "metadata": {
        "colab": {
          "base_uri": "https://localhost:8080/"
        },
        "id": "PkurGbgRTSQ9",
        "outputId": "76f95370-abd0-4b80-e630-74578c7d48f1"
      },
      "execution_count": 20,
      "outputs": [
        {
          "output_type": "execute_result",
          "data": {
            "text/plain": [
              "KNeighborsClassifier()"
            ]
          },
          "metadata": {},
          "execution_count": 20
        }
      ]
    },
    {
      "cell_type": "code",
      "source": [
        "tokenized_reviews_val = X_val.apply(lambda x: x.split()) # tokenizing \n",
        "wordvec_arrays_val = np.zeros((len(tokenized_reviews_val), 200)) \n",
        "for i in range(len(tokenized_reviews_val)):\n",
        "    wordvec_arrays_val[i,:] = word_vector(tokenized_reviews_val[i], 200)\n",
        "wordvec_df_val = pd.DataFrame(wordvec_arrays_val)\n",
        "wordvec_df_val.shape    "
      ],
      "metadata": {
        "colab": {
          "base_uri": "https://localhost:8080/"
        },
        "id": "cuJp-S1ez39G",
        "outputId": "6395bc5c-9177-4342-d6e0-dd9a96adbafd"
      },
      "execution_count": 21,
      "outputs": [
        {
          "output_type": "execute_result",
          "data": {
            "text/plain": [
              "(32021, 200)"
            ]
          },
          "metadata": {},
          "execution_count": 21
        }
      ]
    },
    {
      "cell_type": "code",
      "source": [
        "from sklearn.model_selection import cross_val_score\n",
        "\n",
        "scores = cross_val_score(model3, wordvec_df_val, y_val, cv=5)\n",
        "scores"
      ],
      "metadata": {
        "colab": {
          "base_uri": "https://localhost:8080/"
        },
        "id": "7i37AS05z1qm",
        "outputId": "754fc262-483f-4aa6-8469-82074a679163"
      },
      "execution_count": 22,
      "outputs": [
        {
          "output_type": "execute_result",
          "data": {
            "text/plain": [
              "array([0.88196721, 0.88444722, 0.87414116, 0.88444722, 0.87617114])"
            ]
          },
          "metadata": {},
          "execution_count": 22
        }
      ]
    },
    {
      "cell_type": "code",
      "source": [
        "tokenized_reviews_test = X_test.apply(lambda x: x.split()) # tokenizing "
      ],
      "metadata": {
        "id": "S1bN7OdZtHBN"
      },
      "execution_count": 23,
      "outputs": []
    },
    {
      "cell_type": "code",
      "source": [
        "wordvec_arrays_test = np.zeros((len(tokenized_reviews_test), 200)) \n",
        "for i in range(len(tokenized_reviews_test)):\n",
        "    wordvec_arrays_test[i,:] = word_vector(tokenized_reviews_test[i], 200)"
      ],
      "metadata": {
        "id": "ibYbjNXatMRf"
      },
      "execution_count": 24,
      "outputs": []
    },
    {
      "cell_type": "code",
      "source": [
        "wordvec_df_test = pd.DataFrame(wordvec_arrays_test)\n",
        "wordvec_df_test.shape"
      ],
      "metadata": {
        "colab": {
          "base_uri": "https://localhost:8080/"
        },
        "id": "GhVadQAvtT1D",
        "outputId": "4ff80e6c-b4cf-4a14-fa75-d9eb8af87ed3"
      },
      "execution_count": 25,
      "outputs": [
        {
          "output_type": "execute_result",
          "data": {
            "text/plain": [
              "(32022, 200)"
            ]
          },
          "metadata": {},
          "execution_count": 25
        }
      ]
    },
    {
      "cell_type": "code",
      "source": [
        "predictions = model3.predict(wordvec_df_test)"
      ],
      "metadata": {
        "id": "Qa7zeRQftBgg"
      },
      "execution_count": 26,
      "outputs": []
    },
    {
      "cell_type": "code",
      "source": [
        "print(confusion_matrix(y_test,predictions))"
      ],
      "metadata": {
        "colab": {
          "base_uri": "https://localhost:8080/"
        },
        "id": "Jv4In-z1tdpY",
        "outputId": "e2cad74b-d208-4fc2-dd46-77414f8d1d26"
      },
      "execution_count": 27,
      "outputs": [
        {
          "output_type": "stream",
          "name": "stdout",
          "text": [
            "[[ 3295  1996]\n",
            " [  613 26118]]\n"
          ]
        }
      ]
    },
    {
      "cell_type": "code",
      "source": [
        "print(classification_report(y_test,predictions))"
      ],
      "metadata": {
        "colab": {
          "base_uri": "https://localhost:8080/"
        },
        "id": "NcMna-iCtjCT",
        "outputId": "b52e1f71-b3f7-4d6f-d022-8d9023f92717"
      },
      "execution_count": 28,
      "outputs": [
        {
          "output_type": "stream",
          "name": "stdout",
          "text": [
            "              precision    recall  f1-score   support\n",
            "\n",
            "           0       0.84      0.62      0.72      5291\n",
            "           1       0.93      0.98      0.95     26731\n",
            "\n",
            "    accuracy                           0.92     32022\n",
            "   macro avg       0.89      0.80      0.83     32022\n",
            "weighted avg       0.91      0.92      0.91     32022\n",
            "\n"
          ]
        }
      ]
    }
  ]
}