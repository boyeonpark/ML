{
 "cells": [
  {
   "cell_type": "code",
   "execution_count": 1,
   "id": "6eb09fc8",
   "metadata": {},
   "outputs": [],
   "source": [
    "import numpy as np\n",
    "import pandas as pd\n",
    "import matplotlib.pyplot as plt\n",
    "import seaborn as sns\n",
    "import string\n",
    "import nltk\n",
    "from nltk.corpus import stopwords\n",
    "from wordcloud import WordCloud\n",
    "import string   \n",
    "import re\n",
    "pd.set_option('display.max_columns', None)\n",
    "from sklearn.model_selection import train_test_split"
   ]
  },
  {
   "cell_type": "markdown",
   "id": "13da819e",
   "metadata": {},
   "source": [
    "# load data"
   ]
  },
  {
   "cell_type": "code",
   "execution_count": 2,
   "id": "a710750c",
   "metadata": {
    "scrolled": false
   },
   "outputs": [
    {
     "data": {
      "text/html": [
       "<div>\n",
       "<style scoped>\n",
       "    .dataframe tbody tr th:only-of-type {\n",
       "        vertical-align: middle;\n",
       "    }\n",
       "\n",
       "    .dataframe tbody tr th {\n",
       "        vertical-align: top;\n",
       "    }\n",
       "\n",
       "    .dataframe thead th {\n",
       "        text-align: right;\n",
       "    }\n",
       "</style>\n",
       "<table border=\"1\" class=\"dataframe\">\n",
       "  <thead>\n",
       "    <tr style=\"text-align: right;\">\n",
       "      <th></th>\n",
       "      <th>Id</th>\n",
       "      <th>ProductId</th>\n",
       "      <th>UserId</th>\n",
       "      <th>ProfileName</th>\n",
       "      <th>HelpfulnessNumerator</th>\n",
       "      <th>HelpfulnessDenominator</th>\n",
       "      <th>Score</th>\n",
       "      <th>Time</th>\n",
       "      <th>Summary</th>\n",
       "      <th>Text</th>\n",
       "    </tr>\n",
       "  </thead>\n",
       "  <tbody>\n",
       "    <tr>\n",
       "      <th>0</th>\n",
       "      <td>1</td>\n",
       "      <td>B001E4KFG0</td>\n",
       "      <td>A3SGXH7AUHU8GW</td>\n",
       "      <td>delmartian</td>\n",
       "      <td>1</td>\n",
       "      <td>1</td>\n",
       "      <td>5</td>\n",
       "      <td>1303862400</td>\n",
       "      <td>Good Quality Dog Food</td>\n",
       "      <td>I have bought several of the Vitality canned d...</td>\n",
       "    </tr>\n",
       "    <tr>\n",
       "      <th>1</th>\n",
       "      <td>2</td>\n",
       "      <td>B00813GRG4</td>\n",
       "      <td>A1D87F6ZCVE5NK</td>\n",
       "      <td>dll pa</td>\n",
       "      <td>0</td>\n",
       "      <td>0</td>\n",
       "      <td>1</td>\n",
       "      <td>1346976000</td>\n",
       "      <td>Not as Advertised</td>\n",
       "      <td>Product arrived labeled as Jumbo Salted Peanut...</td>\n",
       "    </tr>\n",
       "    <tr>\n",
       "      <th>2</th>\n",
       "      <td>3</td>\n",
       "      <td>B000LQOCH0</td>\n",
       "      <td>ABXLMWJIXXAIN</td>\n",
       "      <td>Natalia Corres \"Natalia Corres\"</td>\n",
       "      <td>1</td>\n",
       "      <td>1</td>\n",
       "      <td>4</td>\n",
       "      <td>1219017600</td>\n",
       "      <td>\"Delight\" says it all</td>\n",
       "      <td>This is a confection that has been around a fe...</td>\n",
       "    </tr>\n",
       "    <tr>\n",
       "      <th>3</th>\n",
       "      <td>4</td>\n",
       "      <td>B000UA0QIQ</td>\n",
       "      <td>A395BORC6FGVXV</td>\n",
       "      <td>Karl</td>\n",
       "      <td>3</td>\n",
       "      <td>3</td>\n",
       "      <td>2</td>\n",
       "      <td>1307923200</td>\n",
       "      <td>Cough Medicine</td>\n",
       "      <td>If you are looking for the secret ingredient i...</td>\n",
       "    </tr>\n",
       "    <tr>\n",
       "      <th>4</th>\n",
       "      <td>5</td>\n",
       "      <td>B006K2ZZ7K</td>\n",
       "      <td>A1UQRSCLF8GW1T</td>\n",
       "      <td>Michael D. Bigham \"M. Wassir\"</td>\n",
       "      <td>0</td>\n",
       "      <td>0</td>\n",
       "      <td>5</td>\n",
       "      <td>1350777600</td>\n",
       "      <td>Great taffy</td>\n",
       "      <td>Great taffy at a great price.  There was a wid...</td>\n",
       "    </tr>\n",
       "    <tr>\n",
       "      <th>...</th>\n",
       "      <td>...</td>\n",
       "      <td>...</td>\n",
       "      <td>...</td>\n",
       "      <td>...</td>\n",
       "      <td>...</td>\n",
       "      <td>...</td>\n",
       "      <td>...</td>\n",
       "      <td>...</td>\n",
       "      <td>...</td>\n",
       "      <td>...</td>\n",
       "    </tr>\n",
       "    <tr>\n",
       "      <th>568449</th>\n",
       "      <td>568450</td>\n",
       "      <td>B001EO7N10</td>\n",
       "      <td>A28KG5XORO54AY</td>\n",
       "      <td>Lettie D. Carter</td>\n",
       "      <td>0</td>\n",
       "      <td>0</td>\n",
       "      <td>5</td>\n",
       "      <td>1299628800</td>\n",
       "      <td>Will not do without</td>\n",
       "      <td>Great for sesame chicken..this is a good if no...</td>\n",
       "    </tr>\n",
       "    <tr>\n",
       "      <th>568450</th>\n",
       "      <td>568451</td>\n",
       "      <td>B003S1WTCU</td>\n",
       "      <td>A3I8AFVPEE8KI5</td>\n",
       "      <td>R. Sawyer</td>\n",
       "      <td>0</td>\n",
       "      <td>0</td>\n",
       "      <td>2</td>\n",
       "      <td>1331251200</td>\n",
       "      <td>disappointed</td>\n",
       "      <td>I'm disappointed with the flavor. The chocolat...</td>\n",
       "    </tr>\n",
       "    <tr>\n",
       "      <th>568451</th>\n",
       "      <td>568452</td>\n",
       "      <td>B004I613EE</td>\n",
       "      <td>A121AA1GQV751Z</td>\n",
       "      <td>pksd \"pk_007\"</td>\n",
       "      <td>2</td>\n",
       "      <td>2</td>\n",
       "      <td>5</td>\n",
       "      <td>1329782400</td>\n",
       "      <td>Perfect for our maltipoo</td>\n",
       "      <td>These stars are small, so you can give 10-15 o...</td>\n",
       "    </tr>\n",
       "    <tr>\n",
       "      <th>568452</th>\n",
       "      <td>568453</td>\n",
       "      <td>B004I613EE</td>\n",
       "      <td>A3IBEVCTXKNOH</td>\n",
       "      <td>Kathy A. Welch \"katwel\"</td>\n",
       "      <td>1</td>\n",
       "      <td>1</td>\n",
       "      <td>5</td>\n",
       "      <td>1331596800</td>\n",
       "      <td>Favorite Training and reward treat</td>\n",
       "      <td>These are the BEST treats for training and rew...</td>\n",
       "    </tr>\n",
       "    <tr>\n",
       "      <th>568453</th>\n",
       "      <td>568454</td>\n",
       "      <td>B001LR2CU2</td>\n",
       "      <td>A3LGQPJCZVL9UC</td>\n",
       "      <td>srfell17</td>\n",
       "      <td>0</td>\n",
       "      <td>0</td>\n",
       "      <td>5</td>\n",
       "      <td>1338422400</td>\n",
       "      <td>Great Honey</td>\n",
       "      <td>I am very satisfied ,product is as advertised,...</td>\n",
       "    </tr>\n",
       "  </tbody>\n",
       "</table>\n",
       "<p>568454 rows × 10 columns</p>\n",
       "</div>"
      ],
      "text/plain": [
       "            Id   ProductId          UserId                      ProfileName  \\\n",
       "0            1  B001E4KFG0  A3SGXH7AUHU8GW                       delmartian   \n",
       "1            2  B00813GRG4  A1D87F6ZCVE5NK                           dll pa   \n",
       "2            3  B000LQOCH0   ABXLMWJIXXAIN  Natalia Corres \"Natalia Corres\"   \n",
       "3            4  B000UA0QIQ  A395BORC6FGVXV                             Karl   \n",
       "4            5  B006K2ZZ7K  A1UQRSCLF8GW1T    Michael D. Bigham \"M. Wassir\"   \n",
       "...        ...         ...             ...                              ...   \n",
       "568449  568450  B001EO7N10  A28KG5XORO54AY                 Lettie D. Carter   \n",
       "568450  568451  B003S1WTCU  A3I8AFVPEE8KI5                        R. Sawyer   \n",
       "568451  568452  B004I613EE  A121AA1GQV751Z                    pksd \"pk_007\"   \n",
       "568452  568453  B004I613EE   A3IBEVCTXKNOH          Kathy A. Welch \"katwel\"   \n",
       "568453  568454  B001LR2CU2  A3LGQPJCZVL9UC                         srfell17   \n",
       "\n",
       "        HelpfulnessNumerator  HelpfulnessDenominator  Score        Time  \\\n",
       "0                          1                       1      5  1303862400   \n",
       "1                          0                       0      1  1346976000   \n",
       "2                          1                       1      4  1219017600   \n",
       "3                          3                       3      2  1307923200   \n",
       "4                          0                       0      5  1350777600   \n",
       "...                      ...                     ...    ...         ...   \n",
       "568449                     0                       0      5  1299628800   \n",
       "568450                     0                       0      2  1331251200   \n",
       "568451                     2                       2      5  1329782400   \n",
       "568452                     1                       1      5  1331596800   \n",
       "568453                     0                       0      5  1338422400   \n",
       "\n",
       "                                   Summary  \\\n",
       "0                    Good Quality Dog Food   \n",
       "1                        Not as Advertised   \n",
       "2                    \"Delight\" says it all   \n",
       "3                           Cough Medicine   \n",
       "4                              Great taffy   \n",
       "...                                    ...   \n",
       "568449                 Will not do without   \n",
       "568450                        disappointed   \n",
       "568451            Perfect for our maltipoo   \n",
       "568452  Favorite Training and reward treat   \n",
       "568453                         Great Honey   \n",
       "\n",
       "                                                     Text  \n",
       "0       I have bought several of the Vitality canned d...  \n",
       "1       Product arrived labeled as Jumbo Salted Peanut...  \n",
       "2       This is a confection that has been around a fe...  \n",
       "3       If you are looking for the secret ingredient i...  \n",
       "4       Great taffy at a great price.  There was a wid...  \n",
       "...                                                   ...  \n",
       "568449  Great for sesame chicken..this is a good if no...  \n",
       "568450  I'm disappointed with the flavor. The chocolat...  \n",
       "568451  These stars are small, so you can give 10-15 o...  \n",
       "568452  These are the BEST treats for training and rew...  \n",
       "568453  I am very satisfied ,product is as advertised,...  \n",
       "\n",
       "[568454 rows x 10 columns]"
      ]
     },
     "execution_count": 2,
     "metadata": {},
     "output_type": "execute_result"
    }
   ],
   "source": [
    "df=pd.read_csv('Reviews.csv')\n",
    "df"
   ]
  },
  {
   "cell_type": "markdown",
   "id": "8a1d93c5",
   "metadata": {},
   "source": [
    "# columns' title to lower case"
   ]
  },
  {
   "cell_type": "code",
   "execution_count": 3,
   "id": "3372dc85",
   "metadata": {},
   "outputs": [
    {
     "data": {
      "text/plain": [
       "Index(['id', 'productid', 'userid', 'profilename', 'helpfulnessnumerator',\n",
       "       'helpfulnessdenominator', 'score', 'time', 'summary', 'text'],\n",
       "      dtype='object')"
      ]
     },
     "execution_count": 3,
     "metadata": {},
     "output_type": "execute_result"
    }
   ],
   "source": [
    "df.columns= df.columns.str.lower()\n",
    "df.columns"
   ]
  },
  {
   "cell_type": "markdown",
   "id": "83061c0f",
   "metadata": {},
   "source": [
    "# clean text"
   ]
  },
  {
   "cell_type": "code",
   "execution_count": 4,
   "id": "22c2d10d",
   "metadata": {},
   "outputs": [],
   "source": [
    "def deEmojify(inputString):#to remove emojis in the text.\n",
    "   try:\n",
    "    return inputString.encode('ascii', 'ignore').decode('ascii') \n",
    "   except:\n",
    "       return inputString\n",
    "\n",
    "STOPWORDS=stopwords.words(\"english\")    #most common unnecessary words. eg is, he, that, etc\n",
    "\n",
    "def filter_text(text):\n",
    "    text=text.strip('\\n')\n",
    "    text=deEmojify(str(text))\n",
    "    text_cleaned=\"\".join([x for x in text if x not in string.punctuation]) # remove punctuation\n",
    "    \n",
    "    text_cleaned=re.sub(' +', ' ', text_cleaned) # remove extra white spaces\n",
    " \n",
    "    text_cleaned=text_cleaned.lower() # converting to lowercase\n",
    "    tokens=text_cleaned.split(\" \")\n",
    "   \n",
    "    tokens=[token for token in tokens if token not in STOPWORDS] # Taking only those words which are not stopwords\n",
    "    text_cleaned = ' '.join([str(token) for token in tokens]) \n",
    "    \n",
    "    return text_cleaned"
   ]
  },
  {
   "cell_type": "code",
   "execution_count": 5,
   "id": "1bada10b",
   "metadata": {},
   "outputs": [
    {
     "name": "stdout",
     "output_type": "stream",
     "text": [
      "cake awesome package quality good \n"
     ]
    }
   ],
   "source": [
    "print(filter_text('This cake is awesome!. But the package quality is not good. '))"
   ]
  },
  {
   "cell_type": "code",
   "execution_count": 6,
   "id": "f647bc1d",
   "metadata": {},
   "outputs": [],
   "source": [
    "df['text']=df['text'].apply(lambda x:filter_text(x))"
   ]
  },
  {
   "cell_type": "code",
   "execution_count": 7,
   "id": "4beddee5",
   "metadata": {
    "scrolled": false
   },
   "outputs": [
    {
     "data": {
      "text/html": [
       "<div>\n",
       "<style scoped>\n",
       "    .dataframe tbody tr th:only-of-type {\n",
       "        vertical-align: middle;\n",
       "    }\n",
       "\n",
       "    .dataframe tbody tr th {\n",
       "        vertical-align: top;\n",
       "    }\n",
       "\n",
       "    .dataframe thead th {\n",
       "        text-align: right;\n",
       "    }\n",
       "</style>\n",
       "<table border=\"1\" class=\"dataframe\">\n",
       "  <thead>\n",
       "    <tr style=\"text-align: right;\">\n",
       "      <th></th>\n",
       "      <th>id</th>\n",
       "      <th>productid</th>\n",
       "      <th>userid</th>\n",
       "      <th>profilename</th>\n",
       "      <th>helpfulnessnumerator</th>\n",
       "      <th>helpfulnessdenominator</th>\n",
       "      <th>score</th>\n",
       "      <th>time</th>\n",
       "      <th>summary</th>\n",
       "      <th>text</th>\n",
       "    </tr>\n",
       "  </thead>\n",
       "  <tbody>\n",
       "    <tr>\n",
       "      <th>0</th>\n",
       "      <td>1</td>\n",
       "      <td>B001E4KFG0</td>\n",
       "      <td>A3SGXH7AUHU8GW</td>\n",
       "      <td>delmartian</td>\n",
       "      <td>1</td>\n",
       "      <td>1</td>\n",
       "      <td>5</td>\n",
       "      <td>1303862400</td>\n",
       "      <td>Good Quality Dog Food</td>\n",
       "      <td>bought several vitality canned dog food produc...</td>\n",
       "    </tr>\n",
       "    <tr>\n",
       "      <th>1</th>\n",
       "      <td>2</td>\n",
       "      <td>B00813GRG4</td>\n",
       "      <td>A1D87F6ZCVE5NK</td>\n",
       "      <td>dll pa</td>\n",
       "      <td>0</td>\n",
       "      <td>0</td>\n",
       "      <td>1</td>\n",
       "      <td>1346976000</td>\n",
       "      <td>Not as Advertised</td>\n",
       "      <td>product arrived labeled jumbo salted peanutsth...</td>\n",
       "    </tr>\n",
       "    <tr>\n",
       "      <th>2</th>\n",
       "      <td>3</td>\n",
       "      <td>B000LQOCH0</td>\n",
       "      <td>ABXLMWJIXXAIN</td>\n",
       "      <td>Natalia Corres \"Natalia Corres\"</td>\n",
       "      <td>1</td>\n",
       "      <td>1</td>\n",
       "      <td>4</td>\n",
       "      <td>1219017600</td>\n",
       "      <td>\"Delight\" says it all</td>\n",
       "      <td>confection around centuries light pillowy citr...</td>\n",
       "    </tr>\n",
       "    <tr>\n",
       "      <th>3</th>\n",
       "      <td>4</td>\n",
       "      <td>B000UA0QIQ</td>\n",
       "      <td>A395BORC6FGVXV</td>\n",
       "      <td>Karl</td>\n",
       "      <td>3</td>\n",
       "      <td>3</td>\n",
       "      <td>2</td>\n",
       "      <td>1307923200</td>\n",
       "      <td>Cough Medicine</td>\n",
       "      <td>looking secret ingredient robitussin believe f...</td>\n",
       "    </tr>\n",
       "    <tr>\n",
       "      <th>4</th>\n",
       "      <td>5</td>\n",
       "      <td>B006K2ZZ7K</td>\n",
       "      <td>A1UQRSCLF8GW1T</td>\n",
       "      <td>Michael D. Bigham \"M. Wassir\"</td>\n",
       "      <td>0</td>\n",
       "      <td>0</td>\n",
       "      <td>5</td>\n",
       "      <td>1350777600</td>\n",
       "      <td>Great taffy</td>\n",
       "      <td>great taffy great price wide assortment yummy ...</td>\n",
       "    </tr>\n",
       "    <tr>\n",
       "      <th>...</th>\n",
       "      <td>...</td>\n",
       "      <td>...</td>\n",
       "      <td>...</td>\n",
       "      <td>...</td>\n",
       "      <td>...</td>\n",
       "      <td>...</td>\n",
       "      <td>...</td>\n",
       "      <td>...</td>\n",
       "      <td>...</td>\n",
       "      <td>...</td>\n",
       "    </tr>\n",
       "    <tr>\n",
       "      <th>568449</th>\n",
       "      <td>568450</td>\n",
       "      <td>B001EO7N10</td>\n",
       "      <td>A28KG5XORO54AY</td>\n",
       "      <td>Lettie D. Carter</td>\n",
       "      <td>0</td>\n",
       "      <td>0</td>\n",
       "      <td>5</td>\n",
       "      <td>1299628800</td>\n",
       "      <td>Will not do without</td>\n",
       "      <td>great sesame chickenthis good better resturant...</td>\n",
       "    </tr>\n",
       "    <tr>\n",
       "      <th>568450</th>\n",
       "      <td>568451</td>\n",
       "      <td>B003S1WTCU</td>\n",
       "      <td>A3I8AFVPEE8KI5</td>\n",
       "      <td>R. Sawyer</td>\n",
       "      <td>0</td>\n",
       "      <td>0</td>\n",
       "      <td>2</td>\n",
       "      <td>1331251200</td>\n",
       "      <td>disappointed</td>\n",
       "      <td>im disappointed flavor chocolate notes especia...</td>\n",
       "    </tr>\n",
       "    <tr>\n",
       "      <th>568451</th>\n",
       "      <td>568452</td>\n",
       "      <td>B004I613EE</td>\n",
       "      <td>A121AA1GQV751Z</td>\n",
       "      <td>pksd \"pk_007\"</td>\n",
       "      <td>2</td>\n",
       "      <td>2</td>\n",
       "      <td>5</td>\n",
       "      <td>1329782400</td>\n",
       "      <td>Perfect for our maltipoo</td>\n",
       "      <td>stars small give 1015 one training session tri...</td>\n",
       "    </tr>\n",
       "    <tr>\n",
       "      <th>568452</th>\n",
       "      <td>568453</td>\n",
       "      <td>B004I613EE</td>\n",
       "      <td>A3IBEVCTXKNOH</td>\n",
       "      <td>Kathy A. Welch \"katwel\"</td>\n",
       "      <td>1</td>\n",
       "      <td>1</td>\n",
       "      <td>5</td>\n",
       "      <td>1331596800</td>\n",
       "      <td>Favorite Training and reward treat</td>\n",
       "      <td>best treats training rewarding dog good groomi...</td>\n",
       "    </tr>\n",
       "    <tr>\n",
       "      <th>568453</th>\n",
       "      <td>568454</td>\n",
       "      <td>B001LR2CU2</td>\n",
       "      <td>A3LGQPJCZVL9UC</td>\n",
       "      <td>srfell17</td>\n",
       "      <td>0</td>\n",
       "      <td>0</td>\n",
       "      <td>5</td>\n",
       "      <td>1338422400</td>\n",
       "      <td>Great Honey</td>\n",
       "      <td>satisfied product advertised use cereal raw vi...</td>\n",
       "    </tr>\n",
       "  </tbody>\n",
       "</table>\n",
       "<p>568454 rows × 10 columns</p>\n",
       "</div>"
      ],
      "text/plain": [
       "            id   productid          userid                      profilename  \\\n",
       "0            1  B001E4KFG0  A3SGXH7AUHU8GW                       delmartian   \n",
       "1            2  B00813GRG4  A1D87F6ZCVE5NK                           dll pa   \n",
       "2            3  B000LQOCH0   ABXLMWJIXXAIN  Natalia Corres \"Natalia Corres\"   \n",
       "3            4  B000UA0QIQ  A395BORC6FGVXV                             Karl   \n",
       "4            5  B006K2ZZ7K  A1UQRSCLF8GW1T    Michael D. Bigham \"M. Wassir\"   \n",
       "...        ...         ...             ...                              ...   \n",
       "568449  568450  B001EO7N10  A28KG5XORO54AY                 Lettie D. Carter   \n",
       "568450  568451  B003S1WTCU  A3I8AFVPEE8KI5                        R. Sawyer   \n",
       "568451  568452  B004I613EE  A121AA1GQV751Z                    pksd \"pk_007\"   \n",
       "568452  568453  B004I613EE   A3IBEVCTXKNOH          Kathy A. Welch \"katwel\"   \n",
       "568453  568454  B001LR2CU2  A3LGQPJCZVL9UC                         srfell17   \n",
       "\n",
       "        helpfulnessnumerator  helpfulnessdenominator  score        time  \\\n",
       "0                          1                       1      5  1303862400   \n",
       "1                          0                       0      1  1346976000   \n",
       "2                          1                       1      4  1219017600   \n",
       "3                          3                       3      2  1307923200   \n",
       "4                          0                       0      5  1350777600   \n",
       "...                      ...                     ...    ...         ...   \n",
       "568449                     0                       0      5  1299628800   \n",
       "568450                     0                       0      2  1331251200   \n",
       "568451                     2                       2      5  1329782400   \n",
       "568452                     1                       1      5  1331596800   \n",
       "568453                     0                       0      5  1338422400   \n",
       "\n",
       "                                   summary  \\\n",
       "0                    Good Quality Dog Food   \n",
       "1                        Not as Advertised   \n",
       "2                    \"Delight\" says it all   \n",
       "3                           Cough Medicine   \n",
       "4                              Great taffy   \n",
       "...                                    ...   \n",
       "568449                 Will not do without   \n",
       "568450                        disappointed   \n",
       "568451            Perfect for our maltipoo   \n",
       "568452  Favorite Training and reward treat   \n",
       "568453                         Great Honey   \n",
       "\n",
       "                                                     text  \n",
       "0       bought several vitality canned dog food produc...  \n",
       "1       product arrived labeled jumbo salted peanutsth...  \n",
       "2       confection around centuries light pillowy citr...  \n",
       "3       looking secret ingredient robitussin believe f...  \n",
       "4       great taffy great price wide assortment yummy ...  \n",
       "...                                                   ...  \n",
       "568449  great sesame chickenthis good better resturant...  \n",
       "568450  im disappointed flavor chocolate notes especia...  \n",
       "568451  stars small give 1015 one training session tri...  \n",
       "568452  best treats training rewarding dog good groomi...  \n",
       "568453  satisfied product advertised use cereal raw vi...  \n",
       "\n",
       "[568454 rows x 10 columns]"
      ]
     },
     "execution_count": 7,
     "metadata": {},
     "output_type": "execute_result"
    }
   ],
   "source": [
    "df"
   ]
  },
  {
   "cell_type": "code",
   "execution_count": 8,
   "id": "702ccd19",
   "metadata": {},
   "outputs": [
    {
     "name": "stdout",
     "output_type": "stream",
     "text": [
      "568454\n",
      "Unique Products\n",
      "74258\n",
      "Unique Users\n",
      "256059\n"
     ]
    }
   ],
   "source": [
    "print(len(df))\n",
    "print('Unique Products')\n",
    "print(len(df.groupby('productid')))\n",
    "print('Unique Users')\n",
    "print(len(df.groupby('userid')))"
   ]
  },
  {
   "cell_type": "markdown",
   "id": "59cbb0ac",
   "metadata": {},
   "source": [
    "# Calculate numbers of words in text\n"
   ]
  },
  {
   "cell_type": "code",
   "execution_count": 9,
   "id": "29e4aba6",
   "metadata": {},
   "outputs": [],
   "source": [
    "df['num_words_text'] = df['text'].apply(lambda x:len(str(x).split())) "
   ]
  },
  {
   "cell_type": "code",
   "execution_count": 10,
   "id": "1911bc05",
   "metadata": {
    "scrolled": true
   },
   "outputs": [
    {
     "name": "stdout",
     "output_type": "stream",
     "text": [
      "-------Dataset --------\n",
      "5    363122\n",
      "4     80655\n",
      "1     52268\n",
      "3     42640\n",
      "2     29769\n",
      "Name: score, dtype: int64\n",
      "568454\n",
      "-------------------------\n",
      "Train Max Sentence Length :1977\n"
     ]
    }
   ],
   "source": [
    "print('-------Dataset --------')\n",
    "print(df['score'].value_counts())\n",
    "print(len(df))\n",
    "print('-------------------------')\n",
    "max_review_data_sentence_length  = df['num_words_text'].max()\n",
    "\n",
    "print('Train Max Sentence Length :'+str(max_review_data_sentence_length))"
   ]
  },
  {
   "cell_type": "code",
   "execution_count": 11,
   "id": "005592d6",
   "metadata": {
    "scrolled": true
   },
   "outputs": [
    {
     "data": {
      "text/plain": [
       "count    568454.000000\n",
       "mean         41.488309\n",
       "std          42.654358\n",
       "min           1.000000\n",
       "25%          17.000000\n",
       "50%          29.000000\n",
       "75%          50.000000\n",
       "max        1977.000000\n",
       "Name: num_words_text, dtype: float64"
      ]
     },
     "execution_count": 11,
     "metadata": {},
     "output_type": "execute_result"
    }
   ],
   "source": [
    "df['num_words_text'].describe()"
   ]
  },
  {
   "cell_type": "code",
   "execution_count": 12,
   "id": "32a11690",
   "metadata": {
    "scrolled": true
   },
   "outputs": [
    {
     "data": {
      "text/plain": [
       "<AxesSubplot:xlabel='num_words_text'>"
      ]
     },
     "execution_count": 12,
     "metadata": {},
     "output_type": "execute_result"
    },
    {
     "data": {
      "image/png": "[encoded data removed]",
      "text/plain": [
       "<Figure size 432x288 with 1 Axes>"
      ]
     },
     "metadata": {},
     "output_type": "display_data"
    }
   ],
   "source": [
    "sns.set(style=\"whitegrid\")\n",
    "sns.boxplot(x=df['num_words_text'])"
   ]
  },
  {
   "cell_type": "markdown",
   "id": "507b32c3",
   "metadata": {},
   "source": [
    "# assumption : Score 1,2-negative,  4,5-positive/ drop Score 3 data"
   ]
  },
  {
   "cell_type": "code",
   "execution_count": 13,
   "id": "62cbfc2b",
   "metadata": {},
   "outputs": [],
   "source": [
    "df=df[df['score'] != 3]"
   ]
  },
  {
   "cell_type": "code",
   "execution_count": 14,
   "id": "e0d823d7",
   "metadata": {},
   "outputs": [
    {
     "name": "stdout",
     "output_type": "stream",
     "text": [
      "-------Dataset --------\n",
      "5    363122\n",
      "4     80655\n",
      "1     52268\n",
      "2     29769\n",
      "Name: score, dtype: int64\n",
      "525814\n"
     ]
    }
   ],
   "source": [
    "print('-------Dataset --------')\n",
    "print(df['score'].value_counts())\n",
    "print(len(df))"
   ]
  },
  {
   "cell_type": "code",
   "execution_count": 15,
   "id": "dd54c839",
   "metadata": {},
   "outputs": [],
   "source": [
    "def get_sentiment(rating):\n",
    "    if rating == 5 or rating == 4 :\n",
    "        return 1 #positive\n",
    "    else:\n",
    "        return 0 #negative"
   ]
  },
  {
   "cell_type": "markdown",
   "id": "e2f6be93",
   "metadata": {},
   "source": [
    "# create a dataset having reviews of 100 words or less"
   ]
  },
  {
   "cell_type": "code",
   "execution_count": 16,
   "id": "c279b768",
   "metadata": {},
   "outputs": [
    {
     "name": "stdout",
     "output_type": "stream",
     "text": [
      "No of Short reviews\n",
      "322793\n",
      "No of Long reviews\n",
      "34980\n"
     ]
    }
   ],
   "source": [
    "mask = (df['num_words_text'] < 100) & (df['num_words_text'] >=20)\n",
    "df_short_reviews = df[mask]\n",
    "print('No of Short reviews')\n",
    "print(len(df_short_reviews))\n",
    "\n",
    "mask = df['num_words_text'] >= 100\n",
    "df_long_reviews = df[mask]\n",
    "print('No of Long reviews')\n",
    "print(len(df_long_reviews))"
   ]
  },
  {
   "cell_type": "code",
   "execution_count": 17,
   "id": "915feaf5",
   "metadata": {},
   "outputs": [
    {
     "name": "stdout",
     "output_type": "stream",
     "text": [
      "99\n"
     ]
    }
   ],
   "source": [
    "print(df_short_reviews['num_words_text'].max())"
   ]
  },
  {
   "cell_type": "markdown",
   "id": "ae9c7141",
   "metadata": {},
   "source": [
    "We will use product reviews which has more than +20 reviews per product to have reliable reviews."
   ]
  },
  {
   "cell_type": "code",
   "execution_count": 107,
   "id": "5e3c4842",
   "metadata": {},
   "outputs": [
    {
     "name": "stdout",
     "output_type": "stream",
     "text": [
      "160106\n",
      "5    105054\n",
      "4     28599\n",
      "1     16115\n",
      "2     10338\n",
      "Name: score, dtype: int64\n",
      "Data\n",
      "1    133653\n",
      "0     26453\n",
      "Name: sentiment, dtype: int64\n"
     ]
    }
   ],
   "source": [
    "filtered_data = df_short_reviews.groupby('productid').filter(lambda x: len(x) >= 20)\n",
    "print(len(filtered_data))\n",
    "print(filtered_data ['score'].value_counts())\n",
    "filtered_data ['sentiment'] = filtered_data ['score'].apply(get_sentiment)\n",
    "data = filtered_data[['text','sentiment']]\n",
    "print('Data')\n",
    "print(data['sentiment'].value_counts())"
   ]
  },
  {
   "cell_type": "code",
   "execution_count": 108,
   "id": "8801d358",
   "metadata": {},
   "outputs": [
    {
     "data": {
      "text/plain": [
       "423       1\n",
       "424       1\n",
       "425       1\n",
       "426       1\n",
       "427       1\n",
       "         ..\n",
       "568061    0\n",
       "568062    1\n",
       "568063    1\n",
       "568066    0\n",
       "568070    1\n",
       "Name: sentiment, Length: 160106, dtype: int64"
      ]
     },
     "execution_count": 108,
     "metadata": {},
     "output_type": "execute_result"
    }
   ],
   "source": [
    "data['sentiment']"
   ]
  },
  {
   "cell_type": "code",
   "execution_count": 109,
   "id": "0e351a42",
   "metadata": {},
   "outputs": [
    {
     "data": {
      "text/plain": [
       "Index(['id', 'productid', 'userid', 'profilename', 'helpfulnessnumerator',\n",
       "       'helpfulnessdenominator', 'score', 'time', 'summary', 'text',\n",
       "       'num_words_text', 'sentiment'],\n",
       "      dtype='object')"
      ]
     },
     "execution_count": 109,
     "metadata": {},
     "output_type": "execute_result"
    }
   ],
   "source": [
    "df.columns"
   ]
  },
  {
   "cell_type": "code",
   "execution_count": 110,
   "id": "5c5f9611",
   "metadata": {},
   "outputs": [
    {
     "name": "stdout",
     "output_type": "stream",
     "text": [
      "1    133653\n",
      "0     26453\n",
      "Name: sentiment, dtype: int64\n"
     ]
    }
   ],
   "source": [
    "print(data['sentiment'].value_counts())"
   ]
  },
  {
   "cell_type": "code",
   "execution_count": 111,
   "id": "3a1107c4",
   "metadata": {},
   "outputs": [
    {
     "data": {
      "image/png": "[encoded data removed]",
      "text/plain": [
       "<Figure size 432x288 with 1 Axes>"
      ]
     },
     "metadata": {},
     "output_type": "display_data"
    }
   ],
   "source": [
    "#build wordcloud graph\n",
    "#in both conditions of sentiment == 0 and sentiment == 1\n",
    "import wordcloud\n",
    "import matplotlib.pyplot as plt\n",
    "import jieba\n",
    "from PIL import Image\n",
    "s1=[]\n",
    "\n",
    "#adjust sentiment to 0 or 1 to see the word frequencies \n",
    "#under postive and negative reviews\n",
    "data=data.loc[data['sentiment'] == 0, 'text']\n",
    "for i in data:\n",
    "    s1.append(i)\n",
    "s1=[''.join(jieba.cut(sentence)) for sentence in s1]\n",
    "word_list='     '.join((s1))\n",
    "type(s1)\n",
    "type(word_list)\n",
    "wordcloud=wordcloud.WordCloud(background_color='black').generate(word_list)\n",
    "plt.imshow(wordcloud)\n",
    "plt.axis('off')\n",
    "plt.show()"
   ]
  },
  {
   "cell_type": "code",
   "execution_count": 105,
   "id": "99a425d2",
   "metadata": {},
   "outputs": [],
   "source": [
    "#rating histogram \n",
    "def rating_histo_graph(df, log=False):\n",
    "    df[\"score\"].hist(bins=[0.5,1.5,2.5,3.5,4.5,5.5], log=log, figsize=(12,6), grid=True, color=\"#703eb0\")\n",
    "    plt.title(\"People-Rating Graph\")\n",
    "    plt.xlabel(\"Rating\")\n",
    "    plt.ylabel(\"Number of Ratings\")\n",
    "    plt.show()"
   ]
  },
  {
   "cell_type": "code",
   "execution_count": 106,
   "id": "71d53e8b",
   "metadata": {},
   "outputs": [
    {
     "data": {
      "image/png": "[encoded data removed]",
      "text/plain": [
       "<Figure size 864x432 with 1 Axes>"
      ]
     },
     "metadata": {},
     "output_type": "display_data"
    }
   ],
   "source": [
    "rating_histo_graph(filtered_data)"
   ]
  },
  {
   "cell_type": "code",
   "execution_count": 112,
   "id": "895f01d6",
   "metadata": {},
   "outputs": [],
   "source": [
    "def rating_boxplot(df):\n",
    "#sns.boxplot(data=df['rating'], orient=\"h\", palette=\"Set2\", showmeans=True, meanline=True)\n",
    "#color = dict(boxes='black', whiskers='blue', medians='red', caps='black')\n",
    "# styles=dict(whiskers='--')\n",
    "#df['rating'].plot.box(color=color, style=styles)\n",
    "    sns.boxplot(x=\"score\", data=df, whis=5, color='None', showmeans=True, meanline=True);"
   ]
  },
  {
   "cell_type": "code",
   "execution_count": 113,
   "id": "1c507731",
   "metadata": {},
   "outputs": [
    {
     "data": {
      "image/png": "[encoded data removed]",
      "text/plain": [
       "<Figure size 432x288 with 1 Axes>"
      ]
     },
     "metadata": {},
     "output_type": "display_data"
    }
   ],
   "source": [
    "rating_boxplot(filtered_data)"
   ]
  },
  {
   "cell_type": "markdown",
   "id": "cb32268c",
   "metadata": {},
   "source": [
    "save this as a .csv file to use it as training and test data"
   ]
  },
  {
   "cell_type": "code",
   "execution_count": 30,
   "id": "775e8b90",
   "metadata": {},
   "outputs": [],
   "source": [
    "data.to_csv('./data/data.csv')"
   ]
  },
  {
   "cell_type": "code",
   "execution_count": 2,
   "id": "ab89804d",
   "metadata": {},
   "outputs": [],
   "source": [
    "df = pd.read_csv(\"./data/data.csv\")"
   ]
  },
  {
   "cell_type": "code",
   "execution_count": 4,
   "id": "5fa9fcc3",
   "metadata": {},
   "outputs": [],
   "source": [
    "X_train, X_test, y_train, y_test = train_test_split(df['text'], df['sentiment'], test_size=0.2,random_state=1)\n",
    "\n",
    "X_train, X_val, y_train, y_val = train_test_split(X_train, y_train, test_size=0.25,random_state=1) # 0.25 x 0.8 = 0.2"
   ]
  },
  {
   "cell_type": "code",
   "execution_count": 6,
   "id": "2654a15c",
   "metadata": {},
   "outputs": [
    {
     "data": {
      "text/plain": [
       "107044    worse tea fresh green tea indeed green tea tim...\n",
       "117433    ive tasted best real things wonderful dreadful...\n",
       "71509     love taste good ginger snap cookie saw offered...\n",
       "4188      absolutely love coachs oatmeal hated oatmeal t...\n",
       "55966     normally dont go instant coffees delicious ins...\n",
       "                                ...                        \n",
       "76685     ive loved graham crackers since kid many brand...\n",
       "51917     decided give try since kcup coffee prices goin...\n",
       "31444     excellent coffee either brewed hot ice drink l...\n",
       "102206    reading useful negative review times comment t...\n",
       "131087    excited high protein pretzels opened tasted ta...\n",
       "Name: text, Length: 96063, dtype: object"
      ]
     },
     "execution_count": 6,
     "metadata": {},
     "output_type": "execute_result"
    }
   ],
   "source": [
    "X_train"
   ]
  },
  {
   "cell_type": "markdown",
   "id": "f3b368a2",
   "metadata": {},
   "source": [
    "Export train / test / validation set to have the same set for each model (to compare each model's performance better)"
   ]
  },
  {
   "cell_type": "code",
   "execution_count": 10,
   "id": "c0ee28c5",
   "metadata": {},
   "outputs": [],
   "source": [
    "X_train.to_csv('./data/X_train.csv',index=False)\n",
    "X_test.to_csv('./data/X_test.csv',index=False)\n",
    "y_train.to_csv('./data/y_train.csv',index=False)\n",
    "y_test.to_csv('./data/y_test.csv',index=False)\n",
    "X_val.to_csv('./data/X_val.csv',index=False)\n",
    "y_val.to_csv('./data/y_val.csv',index=False)"
   ]
  }
 ],
 "metadata": {
  "kernelspec": {
   "display_name": "Python 3 (ipykernel)",
   "language": "python",
   "name": "python3"
  },
  "language_info": {
   "codemirror_mode": {
    "name": "ipython",
    "version": 3
   },
   "file_extension": ".py",
   "mimetype": "text/x-python",
   "name": "python",
   "nbconvert_exporter": "python",
   "pygments_lexer": "ipython3",
   "version": "3.9.7"
  }
 },
 "nbformat": 4,
 "nbformat_minor": 5
}
