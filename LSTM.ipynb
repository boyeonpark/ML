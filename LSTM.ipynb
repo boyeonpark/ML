{
 "cells": [
  {
   "cell_type": "code",
   "execution_count": 1,
   "id": "d589db06",
   "metadata": {},
   "outputs": [],
   "source": [
    "from keras.models import Model, Sequential\n",
    "from keras.preprocessing import text, sequence\n",
    "from keras.callbacks import EarlyStopping, ModelCheckpoint\n",
    "from keras import activations, initializers, regularizers, constraints\n",
    "from keras.utils.conv_utils import conv_output_length\n",
    "from keras.layers import Dense, Input, Dropout, LSTM, Activation\n",
    "from keras.layers.embeddings import Embedding\n",
    "from keras.initializers import glorot_uniform\n",
    "from keras.preprocessing import text, sequence\n",
    "from keras.regularizers import l2\n",
    "from keras.constraints import maxnorm\n",
    "import sklearn\n",
    "from sklearn.model_selection import train_test_split\n",
    "from sklearn.metrics import classification_report\n",
    "from sklearn import metrics\n",
    "import numpy as np \n",
    "import pandas as pd \n",
    "import os\n",
    "np.random.seed(0)\n",
    "import matplotlib.pyplot as plt\n",
    "import matplotlib as mpl\n",
    "import seaborn as sns\n",
    "from wordcloud import WordCloud\n",
    "from matplotlib import rcParams\n",
    "from collections import Counter\n",
    "from tensorflow.keras import preprocessing\n",
    "from tensorflow.keras.preprocessing.text import Tokenizer\n",
    "from tensorflow.keras.preprocessing.sequence import pad_sequences\n",
    "import tensorflow as tf"
   ]
  },
  {
   "cell_type": "markdown",
   "id": "5aef9231",
   "metadata": {},
   "source": [
    "### load pre-processed data"
   ]
  },
  {
   "cell_type": "code",
   "execution_count": 2,
   "id": "c48f7950",
   "metadata": {},
   "outputs": [],
   "source": [
    "df = pd.read_csv(\"./data/data.csv\")"
   ]
  },
  {
   "cell_type": "code",
   "execution_count": 3,
   "id": "fb7ca7ef",
   "metadata": {},
   "outputs": [
    {
     "data": {
      "text/html": [
       "<div>\n",
       "<style scoped>\n",
       "    .dataframe tbody tr th:only-of-type {\n",
       "        vertical-align: middle;\n",
       "    }\n",
       "\n",
       "    .dataframe tbody tr th {\n",
       "        vertical-align: top;\n",
       "    }\n",
       "\n",
       "    .dataframe thead th {\n",
       "        text-align: right;\n",
       "    }\n",
       "</style>\n",
       "<table border=\"1\" class=\"dataframe\">\n",
       "  <thead>\n",
       "    <tr style=\"text-align: right;\">\n",
       "      <th></th>\n",
       "      <th>Unnamed: 0</th>\n",
       "      <th>text</th>\n",
       "      <th>sentiment</th>\n",
       "    </tr>\n",
       "  </thead>\n",
       "  <tbody>\n",
       "    <tr>\n",
       "      <th>0</th>\n",
       "      <td>423</td>\n",
       "      <td>never met kettle brand chip like chips great l...</td>\n",
       "      <td>1</td>\n",
       "    </tr>\n",
       "    <tr>\n",
       "      <th>1</th>\n",
       "      <td>424</td>\n",
       "      <td>buying bags one time hefty markup nearby store...</td>\n",
       "      <td>1</td>\n",
       "    </tr>\n",
       "    <tr>\n",
       "      <th>2</th>\n",
       "      <td>425</td>\n",
       "      <td>buy mostly vending size bag important kettles ...</td>\n",
       "      <td>1</td>\n",
       "    </tr>\n",
       "    <tr>\n",
       "      <th>3</th>\n",
       "      <td>426</td>\n",
       "      <td>glad find one ounce size bag seems bit less fu...</td>\n",
       "      <td>1</td>\n",
       "    </tr>\n",
       "    <tr>\n",
       "      <th>4</th>\n",
       "      <td>427</td>\n",
       "      <td>one best chips buyand ive tried kettle varieti...</td>\n",
       "      <td>1</td>\n",
       "    </tr>\n",
       "    <tr>\n",
       "      <th>...</th>\n",
       "      <td>...</td>\n",
       "      <td>...</td>\n",
       "      <td>...</td>\n",
       "    </tr>\n",
       "    <tr>\n",
       "      <th>160101</th>\n",
       "      <td>568061</td>\n",
       "      <td>surprised expected thicker 8 month olds pickey...</td>\n",
       "      <td>0</td>\n",
       "    </tr>\n",
       "    <tr>\n",
       "      <th>160102</th>\n",
       "      <td>568062</td>\n",
       "      <td>12 month olds time write great review like fla...</td>\n",
       "      <td>1</td>\n",
       "    </tr>\n",
       "    <tr>\n",
       "      <th>160103</th>\n",
       "      <td>568063</td>\n",
       "      <td>organic health conscious family turned happy b...</td>\n",
       "      <td>1</td>\n",
       "    </tr>\n",
       "    <tr>\n",
       "      <th>160104</th>\n",
       "      <td>568066</td>\n",
       "      <td>son loves happy baby meals hes tried except on...</td>\n",
       "      <td>0</td>\n",
       "    </tr>\n",
       "    <tr>\n",
       "      <th>160105</th>\n",
       "      <td>568070</td>\n",
       "      <td>son eat besides oatmeal texture works hes alwa...</td>\n",
       "      <td>1</td>\n",
       "    </tr>\n",
       "  </tbody>\n",
       "</table>\n",
       "<p>160106 rows × 3 columns</p>\n",
       "</div>"
      ],
      "text/plain": [
       "        Unnamed: 0                                               text  \\\n",
       "0              423  never met kettle brand chip like chips great l...   \n",
       "1              424  buying bags one time hefty markup nearby store...   \n",
       "2              425  buy mostly vending size bag important kettles ...   \n",
       "3              426  glad find one ounce size bag seems bit less fu...   \n",
       "4              427  one best chips buyand ive tried kettle varieti...   \n",
       "...            ...                                                ...   \n",
       "160101      568061  surprised expected thicker 8 month olds pickey...   \n",
       "160102      568062  12 month olds time write great review like fla...   \n",
       "160103      568063  organic health conscious family turned happy b...   \n",
       "160104      568066  son loves happy baby meals hes tried except on...   \n",
       "160105      568070  son eat besides oatmeal texture works hes alwa...   \n",
       "\n",
       "        sentiment  \n",
       "0               1  \n",
       "1               1  \n",
       "2               1  \n",
       "3               1  \n",
       "4               1  \n",
       "...           ...  \n",
       "160101          0  \n",
       "160102          1  \n",
       "160103          1  \n",
       "160104          0  \n",
       "160105          1  \n",
       "\n",
       "[160106 rows x 3 columns]"
      ]
     },
     "execution_count": 3,
     "metadata": {},
     "output_type": "execute_result"
    }
   ],
   "source": [
    "df"
   ]
  },
  {
   "cell_type": "markdown",
   "id": "41e04548",
   "metadata": {},
   "source": [
    "### split data into train, test, validation set"
   ]
  },
  {
   "cell_type": "code",
   "execution_count": 4,
   "id": "f724b17a",
   "metadata": {},
   "outputs": [],
   "source": [
    "X_train, X_test, y_train, y_test = train_test_split(df['text'], df['sentiment'], test_size=0.2,random_state=1)\n",
    "\n",
    "X_train, X_val, y_train, y_val = train_test_split(X_train, y_train, test_size=0.25,random_state=1) # 0.25 x 0.8 = 0.2"
   ]
  },
  {
   "cell_type": "code",
   "execution_count": 5,
   "id": "342b1b1d",
   "metadata": {},
   "outputs": [
    {
     "name": "stdout",
     "output_type": "stream",
     "text": [
      "Train data len:96063\n",
      "Class distributionCounter({1: 80198, 0: 15865})\n",
      "Valid data len:32021\n",
      "Class distributionCounter({1: 26724, 0: 5297})\n",
      "Valid data len:32022\n",
      "Class distributionCounter({1: 26731, 0: 5291})\n"
     ]
    }
   ],
   "source": [
    "print('Train data len:'+str(len(X_train)))\n",
    "print('Class distribution'+str(Counter(y_train)))\n",
    "print('Valid data len:'+str(len(X_val)))\n",
    "print('Class distribution'+ str(Counter(y_val)))\n",
    "print('Valid data len:'+str(len(X_test)))\n",
    "print('Class distribution'+ str(Counter(y_test)))"
   ]
  },
  {
   "cell_type": "markdown",
   "id": "f702b264",
   "metadata": {},
   "source": [
    "### vectorize a text corpus, by turning each text into either a sequence of integers using keras oov tokenizer\n",
    "- num_words : the maximum number of words to keep, based on word frequency. \n"
   ]
  },
  {
   "cell_type": "code",
   "execution_count": 6,
   "id": "8d7b6007",
   "metadata": {},
   "outputs": [
    {
     "name": "stdout",
     "output_type": "stream",
     "text": [
      "[[75, 127, 111]]\n"
     ]
    }
   ],
   "source": [
    "num_words = 50000\n",
    "\n",
    "tokenizer = Tokenizer(num_words=num_words,oov_token=\"unk\")\n",
    "tokenizer.fit_on_texts(X_train)\n",
    "\n",
    "\n",
    "print(str(tokenizer.texts_to_sequences(['never buying bags'])))"
   ]
  },
  {
   "cell_type": "markdown",
   "id": "d00ced54",
   "metadata": {},
   "source": [
    "### create train,validation and test tensorflow datasets"
   ]
  },
  {
   "cell_type": "code",
   "execution_count": 7,
   "id": "d2a07c7c",
   "metadata": {},
   "outputs": [
    {
     "name": "stderr",
     "output_type": "stream",
     "text": [
      "c:\\users\\iambo\\appdata\\local\\programs\\python\\python37\\lib\\site-packages\\ipykernel_launcher.py:1: VisibleDeprecationWarning: Creating an ndarray from ragged nested sequences (which is a list-or-tuple of lists-or-tuples-or ndarrays with different lengths or shapes) is deprecated. If you meant to do this, you must specify 'dtype=object' when creating the ndarray.\n",
      "  \"\"\"Entry point for launching an IPython kernel.\n",
      "c:\\users\\iambo\\appdata\\local\\programs\\python\\python37\\lib\\site-packages\\ipykernel_launcher.py:2: VisibleDeprecationWarning: Creating an ndarray from ragged nested sequences (which is a list-or-tuple of lists-or-tuples-or ndarrays with different lengths or shapes) is deprecated. If you meant to do this, you must specify 'dtype=object' when creating the ndarray.\n",
      "  \n",
      "c:\\users\\iambo\\appdata\\local\\programs\\python\\python37\\lib\\site-packages\\ipykernel_launcher.py:3: VisibleDeprecationWarning: Creating an ndarray from ragged nested sequences (which is a list-or-tuple of lists-or-tuples-or ndarrays with different lengths or shapes) is deprecated. If you meant to do this, you must specify 'dtype=object' when creating the ndarray.\n",
      "  This is separate from the ipykernel package so we can avoid doing imports until\n"
     ]
    },
    {
     "name": "stdout",
     "output_type": "stream",
     "text": [
      "Train data len:96063\n",
      "Class distributionCounter({1: 80198, 0: 15865})\n",
      "Validation data len:32021\n",
      "Class distributionCounter({1: 26724, 0: 5297})\n",
      "Test data len:32022\n",
      "Class distributionCounter({1: 26731, 0: 5291})\n"
     ]
    }
   ],
   "source": [
    "x_train = np.array( tokenizer.texts_to_sequences(X_train) )\n",
    "x_val = np.array( tokenizer.texts_to_sequences(X_val) )\n",
    "x_test  = np.array( tokenizer.texts_to_sequences(X_test) )\n",
    "\n",
    "\n",
    "\n",
    "x_train = pad_sequences(x_train, padding='post', maxlen=100)\n",
    "x_val = pad_sequences(x_val, padding='post', maxlen=100)\n",
    "x_test = pad_sequences(x_test, padding='post', maxlen=100)\n",
    "\n",
    "\n",
    "train_labels = np.asarray(y_train)\n",
    "val_labels = np.asarray(y_val)\n",
    "test_labels = np.asarray(y_test)\n",
    "\n",
    "print('Train data len:'+str(len(x_train)))\n",
    "print('Class distribution'+str(Counter(train_labels)))\n",
    "\n",
    "print('Validation data len:'+str(len(x_val)))\n",
    "print('Class distribution'+str(Counter(val_labels)))\n",
    "\n",
    "print('Test data len:'+str(len(x_test)))\n",
    "print('Class distribution'+str(Counter(test_labels)))\n",
    "\n",
    "\n",
    "train_ds = tf.data.Dataset.from_tensor_slices((x_train,train_labels))\n",
    "val_ds = tf.data.Dataset.from_tensor_slices((x_val,val_labels))\n",
    "test_ds = tf.data.Dataset.from_tensor_slices((x_test,test_labels))"
   ]
  },
  {
   "cell_type": "code",
   "execution_count": 8,
   "id": "7911048e",
   "metadata": {},
   "outputs": [
    {
     "name": "stdout",
     "output_type": "stream",
     "text": [
      "======Train dataset ====\n",
      "tf.Tensor(\n",
      "[ 1162    13   173   139    13  1943   139    13    24  1787  1064  3535\n",
      "  1072   854 19596  3151 10488  1059    36    13   933     9    17    71\n",
      "   102    13   571   313  1272   103   102   700  1072  1059  1176     0\n",
      "     0     0     0     0     0     0     0     0     0     0     0     0\n",
      "     0     0     0     0     0     0     0     0     0     0     0     0\n",
      "     0     0     0     0     0     0     0     0     0     0     0     0\n",
      "     0     0     0     0     0     0     0     0     0     0     0     0\n",
      "     0     0     0     0     0     0     0     0     0     0     0     0\n",
      "     0     0     0     0], shape=(100,), dtype=int32) tf.Tensor(0, shape=(), dtype=int64)\n",
      "======Validation dataset ====\n",
      "tf.Tensor(\n",
      "[  158   285   770    41  2067  7256   320   106   574  3374    41   101\n",
      "    41   607  2997     7   352   250    37  1478  2217   462     7   406\n",
      "    41   532  6709    42    41   322   124   244    41  3712     3   326\n",
      "    41   770   285  5301  1427    41   175   613    24    27  5046  1427\n",
      "    14   240 29164    41   101  1424  2176  1848   320  1427  6639     3\n",
      "   389   510    41    55    41   175     0     0     0     0     0     0\n",
      "     0     0     0     0     0     0     0     0     0     0     0     0\n",
      "     0     0     0     0     0     0     0     0     0     0     0     0\n",
      "     0     0     0     0], shape=(100,), dtype=int32) tf.Tensor(1, shape=(), dtype=int64)\n",
      "======Test dataset ====\n",
      "tf.Tensor(\n",
      "[    8  2397  3119  2041   193    10  1979   226 13948   824    61  2397\n",
      "   241   241   486  2313   221  1112    93     8  3535    17   112   824\n",
      "   267  4156   106    93   391     0     0     0     0     0     0     0\n",
      "     0     0     0     0     0     0     0     0     0     0     0     0\n",
      "     0     0     0     0     0     0     0     0     0     0     0     0\n",
      "     0     0     0     0     0     0     0     0     0     0     0     0\n",
      "     0     0     0     0     0     0     0     0     0     0     0     0\n",
      "     0     0     0     0     0     0     0     0     0     0     0     0\n",
      "     0     0     0     0], shape=(100,), dtype=int32) tf.Tensor(1, shape=(), dtype=int64)\n"
     ]
    }
   ],
   "source": [
    "count =0\n",
    "print('======Train dataset ====')\n",
    "for value,label in train_ds:\n",
    "    count += 1\n",
    "    print(value,label)\n",
    "    if count==1:\n",
    "        break\n",
    "count =0\n",
    "print('======Validation dataset ====')\n",
    "for value,label in val_ds:\n",
    "    count += 1\n",
    "    print(value,label)\n",
    "    if count==1:\n",
    "        break\n",
    "count =0\n",
    "print('======Test dataset ====')\n",
    "for value,label in test_ds:\n",
    "    count += 1\n",
    "    print(value,label)\n",
    "    if count==1:\n",
    "        break  "
   ]
  },
  {
   "cell_type": "markdown",
   "id": "c7a38e9a",
   "metadata": {},
   "source": [
    "### create a simple LSTM based sentiment classification model"
   ]
  },
  {
   "cell_type": "code",
   "execution_count": 9,
   "id": "27f3ad21",
   "metadata": {},
   "outputs": [
    {
     "name": "stdout",
     "output_type": "stream",
     "text": [
      "Model: \"sequential\"\n",
      "_________________________________________________________________\n",
      " Layer (type)                Output Shape              Param #   \n",
      "=================================================================\n",
      " embedding (Embedding)       (None, 100, 16)           800016    \n",
      "                                                                 \n",
      " dropout (Dropout)           (None, 100, 16)           0         \n",
      "                                                                 \n",
      " lstm (LSTM)                 (None, 100, 16)           2112      \n",
      "                                                                 \n",
      " flatten (Flatten)           (None, 1600)              0         \n",
      "                                                                 \n",
      " dense (Dense)               (None, 512)               819712    \n",
      "                                                                 \n",
      " dropout_1 (Dropout)         (None, 512)               0         \n",
      "                                                                 \n",
      " dense_1 (Dense)             (None, 8)                 4104      \n",
      "                                                                 \n",
      " dropout_2 (Dropout)         (None, 8)                 0         \n",
      "                                                                 \n",
      " dense_2 (Dense)             (None, 1)                 9         \n",
      "                                                                 \n",
      "=================================================================\n",
      "Total params: 1,625,953\n",
      "Trainable params: 1,625,953\n",
      "Non-trainable params: 0\n",
      "_________________________________________________________________\n"
     ]
    }
   ],
   "source": [
    "max_features =50000\n",
    "embedding_dim =16\n",
    "sequence_length = 100\n",
    "\n",
    "model = tf.keras.Sequential()\n",
    "model.add(tf.keras.layers.Embedding(max_features +1, embedding_dim, input_length=sequence_length,\\\n",
    "                                    embeddings_regularizer = regularizers.l2(0.005))) \n",
    "model.add(tf.keras.layers.Dropout(0.4))\n",
    "\n",
    "model.add(tf.keras.layers.LSTM(embedding_dim,dropout=0.2, recurrent_dropout=0.2,return_sequences=True,\\\n",
    "                                                             kernel_regularizer=regularizers.l2(0.005),\\\n",
    "                                                             bias_regularizer=regularizers.l2(0.005)))\n",
    "\n",
    "model.add(tf.keras.layers.Flatten())\n",
    "\n",
    "model.add(tf.keras.layers.Dense(512, activation='relu',\\\n",
    "                                kernel_regularizer=regularizers.l2(0.001),\\\n",
    "                                bias_regularizer=regularizers.l2(0.001),))\n",
    "model.add(tf.keras.layers.Dropout(0.4))\n",
    "\n",
    "model.add(tf.keras.layers.Dense(8, activation='relu',\\\n",
    "                                kernel_regularizer=regularizers.l2(0.001),\\\n",
    "                                bias_regularizer=regularizers.l2(0.001),))\n",
    "model.add(tf.keras.layers.Dropout(0.4))\n",
    "\n",
    "\n",
    "model.add(tf.keras.layers.Dense(1,activation='sigmoid'))\n",
    "                               \n",
    "\n",
    "\n",
    "\n",
    "model.summary()\n",
    "model.compile(loss=tf.keras.losses.BinaryCrossentropy(),optimizer=tf.keras.optimizers.Adam(1e-3),metrics=[tf.keras.metrics.BinaryAccuracy()])"
   ]
  },
  {
   "cell_type": "code",
   "execution_count": 10,
   "id": "202c9fdf",
   "metadata": {},
   "outputs": [
    {
     "name": "stdout",
     "output_type": "stream",
     "text": [
      "You must install pydot (`pip install pydot`) and install graphviz (see instructions at https://graphviz.gitlab.io/download/) for plot_model/model_to_dot to work.\n"
     ]
    }
   ],
   "source": [
    "tf.keras.utils.plot_model(model, \"multi_input_and_output_model.png\", show_shapes=True)"
   ]
  },
  {
   "cell_type": "markdown",
   "id": "a5bab365",
   "metadata": {},
   "source": [
    "### model fittling"
   ]
  },
  {
   "cell_type": "code",
   "execution_count": 11,
   "id": "3d150d63",
   "metadata": {},
   "outputs": [
    {
     "name": "stdout",
     "output_type": "stream",
     "text": [
      "Epoch 1/10\n",
      "94/94 [==============================] - 33s 328ms/step - loss: 1.2827 - binary_accuracy: 0.8396 - val_loss: 0.4263 - val_binary_accuracy: 0.9044\n",
      "Epoch 2/10\n",
      "94/94 [==============================] - 31s 328ms/step - loss: 0.4403 - binary_accuracy: 0.9101 - val_loss: 0.3503 - val_binary_accuracy: 0.9235\n",
      "Epoch 3/10\n",
      "94/94 [==============================] - 31s 331ms/step - loss: 0.3962 - binary_accuracy: 0.9214 - val_loss: 0.3302 - val_binary_accuracy: 0.9327\n",
      "Epoch 4/10\n",
      "94/94 [==============================] - 33s 351ms/step - loss: 0.3795 - binary_accuracy: 0.9244 - val_loss: 0.3198 - val_binary_accuracy: 0.9338\n",
      "Epoch 5/10\n",
      "94/94 [==============================] - 32s 337ms/step - loss: 0.3668 - binary_accuracy: 0.9253 - val_loss: 0.3053 - val_binary_accuracy: 0.9332\n",
      "Epoch 6/10\n",
      "94/94 [==============================] - 32s 341ms/step - loss: 0.3556 - binary_accuracy: 0.9272 - val_loss: 0.2960 - val_binary_accuracy: 0.9363\n",
      "Epoch 7/10\n",
      "94/94 [==============================] - 31s 327ms/step - loss: 0.3478 - binary_accuracy: 0.9272 - val_loss: 0.3069 - val_binary_accuracy: 0.9314\n",
      "Epoch 8/10\n",
      "94/94 [==============================] - 30s 317ms/step - loss: 0.3414 - binary_accuracy: 0.9284 - val_loss: 0.2863 - val_binary_accuracy: 0.9372\n",
      "Epoch 9/10\n",
      "94/94 [==============================] - 30s 323ms/step - loss: 0.3350 - binary_accuracy: 0.9294 - val_loss: 0.2803 - val_binary_accuracy: 0.9392\n",
      "Epoch 10/10\n",
      "94/94 [==============================] - 30s 324ms/step - loss: 0.3309 - binary_accuracy: 0.9264 - val_loss: 0.2829 - val_binary_accuracy: 0.9366\n"
     ]
    }
   ],
   "source": [
    "epochs = 10\n",
    "history = model.fit(train_ds.shuffle(5000).batch(1024),\n",
    "                    epochs= epochs ,\n",
    "                    validation_data=val_ds.batch(1024),\n",
    "                    verbose=1)"
   ]
  },
  {
   "cell_type": "code",
   "execution_count": 12,
   "id": "740bbf26",
   "metadata": {},
   "outputs": [
    {
     "data": {
      "text/plain": [
       "{'loss': [1.2826508283615112,\n",
       "  0.44030433893203735,\n",
       "  0.3961702287197113,\n",
       "  0.379451185464859,\n",
       "  0.36683282256126404,\n",
       "  0.3555932641029358,\n",
       "  0.34780341386795044,\n",
       "  0.3413563370704651,\n",
       "  0.335039883852005,\n",
       "  0.330933153629303],\n",
       " 'binary_accuracy': [0.8396260738372803,\n",
       "  0.9101006388664246,\n",
       "  0.9213953614234924,\n",
       "  0.9243621230125427,\n",
       "  0.9252886176109314,\n",
       "  0.9272352457046509,\n",
       "  0.9272352457046509,\n",
       "  0.9284011721611023,\n",
       "  0.9293588399887085,\n",
       "  0.9263712167739868],\n",
       " 'val_loss': [0.4262671172618866,\n",
       "  0.3503497540950775,\n",
       "  0.33024054765701294,\n",
       "  0.31983664631843567,\n",
       "  0.30526086688041687,\n",
       "  0.29604971408843994,\n",
       "  0.3069015145301819,\n",
       "  0.2863016724586487,\n",
       "  0.2802972197532654,\n",
       "  0.28286463022232056],\n",
       " 'val_binary_accuracy': [0.9044377207756042,\n",
       "  0.9234564900398254,\n",
       "  0.9326691627502441,\n",
       "  0.9338246583938599,\n",
       "  0.9332312941551208,\n",
       "  0.9363230466842651,\n",
       "  0.9314200282096863,\n",
       "  0.9372286796569824,\n",
       "  0.939164936542511,\n",
       "  0.9366040825843811]}"
      ]
     },
     "execution_count": 12,
     "metadata": {},
     "output_type": "execute_result"
    }
   ],
   "source": [
    "history.history"
   ]
  },
  {
   "cell_type": "code",
   "execution_count": 13,
   "id": "ff7a4d49",
   "metadata": {},
   "outputs": [
    {
     "data": {
      "image/png": "[encoded data removed]",
      "text/plain": [
       "<Figure size 432x288 with 1 Axes>"
      ]
     },
     "metadata": {
      "needs_background": "light"
     },
     "output_type": "display_data"
    }
   ],
   "source": [
    "plt.plot(history.history['loss'], label=' training data')\n",
    "plt.plot(history.history['val_loss'], label='validation data')\n",
    "plt.title('Loss for Text Classification')\n",
    "plt.ylabel('Loss value')\n",
    "plt.xlabel('No. epoch')\n",
    "plt.legend(loc=\"upper left\")\n",
    "plt.show()"
   ]
  },
  {
   "cell_type": "code",
   "execution_count": 14,
   "id": "c5927327",
   "metadata": {},
   "outputs": [
    {
     "data": {
      "image/png": "[encoded data removed]",
      "text/plain": [
       "<Figure size 432x288 with 1 Axes>"
      ]
     },
     "metadata": {
      "needs_background": "light"
     },
     "output_type": "display_data"
    }
   ],
   "source": [
    "plt.plot(history.history['binary_accuracy'], label=' training data')\n",
    "plt.plot(history.history['val_binary_accuracy'], label='validation data')\n",
    "plt.title('Accuracy for Text Classification')\n",
    "plt.ylabel('Accuracy value')\n",
    "plt.xlabel('No. epoch')\n",
    "plt.legend(loc=\"upper left\")\n",
    "plt.show()"
   ]
  },
  {
   "cell_type": "markdown",
   "id": "ec51a674",
   "metadata": {},
   "source": [
    "### Lets save our model and tokenizer"
   ]
  },
  {
   "cell_type": "code",
   "execution_count": 15,
   "id": "72bcf070",
   "metadata": {},
   "outputs": [],
   "source": [
    "model.save('./tf_lstmmodel.h5') \n",
    "json_string = tokenizer.to_json()"
   ]
  },
  {
   "cell_type": "code",
   "execution_count": 16,
   "id": "84727151",
   "metadata": {},
   "outputs": [],
   "source": [
    "import json\n",
    "with open('./tokenizer.json', 'w') as outfile:\n",
    "    json.dump(json_string, outfile)"
   ]
  },
  {
   "cell_type": "code",
   "execution_count": 17,
   "id": "735a4926",
   "metadata": {},
   "outputs": [
    {
     "ename": "NameError",
     "evalue": "name 'x_valid' is not defined",
     "output_type": "error",
     "traceback": [
      "\u001b[1;31m---------------------------------------------------------------------------\u001b[0m",
      "\u001b[1;31mNameError\u001b[0m                                 Traceback (most recent call last)",
      "\u001b[1;32mC:\\Users\\Public\\Documents\\ESTsoft\\CreatorTemp\\ipykernel_22812\\2288654619.py\u001b[0m in \u001b[0;36m<module>\u001b[1;34m\u001b[0m\n\u001b[1;32m----> 1\u001b[1;33m \u001b[0mvalid_predict\u001b[0m\u001b[1;33m=\u001b[0m \u001b[0mmodel\u001b[0m\u001b[1;33m.\u001b[0m\u001b[0mpredict\u001b[0m\u001b[1;33m(\u001b[0m\u001b[0mx_valid\u001b[0m\u001b[1;33m)\u001b[0m\u001b[1;33m\u001b[0m\u001b[1;33m\u001b[0m\u001b[0m\n\u001b[0m",
      "\u001b[1;31mNameError\u001b[0m: name 'x_valid' is not defined"
     ]
    }
   ],
   "source": [
    "valid_predict= model.predict(x_valid)"
   ]
  },
  {
   "cell_type": "code",
   "execution_count": null,
   "id": "5d924de0",
   "metadata": {},
   "outputs": [],
   "source": [
    "print(valid_predict[:10])"
   ]
  },
  {
   "cell_type": "markdown",
   "id": "b193e97e",
   "metadata": {},
   "source": [
    "### To find optimal threshold, draw ROC curve"
   ]
  },
  {
   "cell_type": "code",
   "execution_count": null,
   "id": "18824f97",
   "metadata": {},
   "outputs": [],
   "source": [
    "def plot_roc(name, labels, predictions, **kwargs):\n",
    "    fp, tp, thresholds = sklearn.metrics.roc_curve(labels, predictions)\n",
    "    plt.plot(fp, tp, label=name, linewidth=2, **kwargs)\n",
    "    plt.xlabel('False positives Rate')\n",
    "    plt.ylabel('True positives Rate')\n",
    "    plt.xlim([-0.03, 1.0])\n",
    "    plt.ylim([0.0, 1.03])\n",
    "    plt.grid(True)\n",
    "    thresholdsLength = len(thresholds)\n",
    "    thresholds_every = 1000\n",
    "    colorMap = plt.get_cmap('jet', thresholdsLength)\n",
    "    for i in range(0, thresholdsLength, thresholds_every):\n",
    "        threshold_value_with_max_four_decimals = str(thresholds[i])[:5]\n",
    "        plt.text(fp[i] - 0.03, tp[i] + 0.001, threshold_value_with_max_four_decimals, fontdict={'size': 15}, color=colorMap(i/thresholdsLength));\n",
    "\n",
    "    ax = plt.gca()\n",
    "    ax.set_aspect('equal')"
   ]
  },
  {
   "cell_type": "code",
   "execution_count": null,
   "id": "9ba099ae",
   "metadata": {},
   "outputs": [],
   "source": [
    "mpl.rcParams['figure.figsize'] = (10, 10)\n",
    "\n",
    "colors = plt.rcParams['axes.prop_cycle'].by_key()['color']"
   ]
  },
  {
   "cell_type": "code",
   "execution_count": null,
   "id": "ea242451",
   "metadata": {},
   "outputs": [],
   "source": [
    "plot_roc(\"Valid Baseline\", valid_labels, valid_predict, color=colors[0], linestyle='--')\n",
    "plt.legend(loc='lower right')"
   ]
  },
  {
   "cell_type": "code",
   "execution_count": null,
   "id": "da40725a",
   "metadata": {},
   "outputs": [],
   "source": [
    "y_true = y_val\n",
    "y_scores = valid_predict\n",
    "\n",
    "fpr, tpr, thresholds = metrics.roc_curve(y_true, y_scores)\n",
    "print(tpr)\n",
    "print(fpr)\n",
    "print(thresholds)\n",
    "print(metrics.roc_auc_score(y_true, y_scores))\n",
    "optimal_idx = np.argmax(tpr - fpr)\n",
    "optimal_threshold = thresholds[optimal_idx]\n",
    "print(\"Threshold value is:\", optimal_threshold)"
   ]
  },
  {
   "cell_type": "code",
   "execution_count": null,
   "id": "563de868",
   "metadata": {},
   "outputs": [],
   "source": [
    "new_model = tf.keras.models.load_model('./tf_lstmmodel.h5')\n",
    "new_model.summary()"
   ]
  },
  {
   "cell_type": "markdown",
   "id": "3498ae01",
   "metadata": {},
   "source": [
    "### load the model we build and test on test data"
   ]
  },
  {
   "cell_type": "code",
   "execution_count": null,
   "id": "79612f73",
   "metadata": {},
   "outputs": [],
   "source": [
    "with open('./tokenizer.json') as json_file:\n",
    "    json_string = json.load(json_file)\n",
    "tokenizer1 = tf.keras.preprocessing.text.tokenizer_from_json(json_string)"
   ]
  },
  {
   "cell_type": "code",
   "execution_count": null,
   "id": "c3d3c466",
   "metadata": {},
   "outputs": [],
   "source": [
    "predictions = new_model.predict(x_test)"
   ]
  },
  {
   "cell_type": "markdown",
   "id": "1c6074c6",
   "metadata": {},
   "source": [
    "### we will use the optimal threshold to have binary classification"
   ]
  },
  {
   "cell_type": "code",
   "execution_count": null,
   "id": "49a43011",
   "metadata": {},
   "outputs": [],
   "source": [
    "predictions_binary= predictions\n",
    "predictions_binary = np.where((predictions_binary >= 0.73),1,predictions_binary)\n",
    "predictions_binary = np.where((predictions_binary < 0.73),0,predictions_binary)"
   ]
  },
  {
   "cell_type": "markdown",
   "id": "8e833999",
   "metadata": {},
   "source": [
    "### confusion matrix"
   ]
  },
  {
   "cell_type": "code",
   "execution_count": null,
   "id": "3d9da8f4",
   "metadata": {},
   "outputs": [],
   "source": [
    "print(classification_report(y_test,predictions_binary))"
   ]
  },
  {
   "cell_type": "markdown",
   "id": "1047c8e6",
   "metadata": {},
   "source": [
    "### The accuracy is 91%"
   ]
  }
 ],
 "metadata": {
  "kernelspec": {
   "display_name": "Python 3 (ipykernel)",
   "language": "python",
   "name": "python3"
  },
  "language_info": {
   "codemirror_mode": {
    "name": "ipython",
    "version": 3
   },
   "file_extension": ".py",
   "mimetype": "text/x-python",
   "name": "python",
   "nbconvert_exporter": "python",
   "pygments_lexer": "ipython3",
   "version": "3.7.6"
  }
 },
 "nbformat": 4,
 "nbformat_minor": 5
}
