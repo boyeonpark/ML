{
 "cells": [
  {
   "cell_type": "code",
   "execution_count": 2,
   "id": "d589db06",
   "metadata": {},
   "outputs": [],
   "source": [
    "from keras.models import Model, Sequential\n",
    "from keras.preprocessing import text, sequence\n",
    "from keras.callbacks import EarlyStopping, ModelCheckpoint\n",
    "from keras import activations, initializers, regularizers, constraints\n",
    "from keras.utils.conv_utils import conv_output_length\n",
    "from keras.layers import Dense, Input, Dropout, LSTM, Activation\n",
    "from keras.layers.embeddings import Embedding\n",
    "from keras.initializers import glorot_uniform\n",
    "from keras.preprocessing import text, sequence\n",
    "from keras.regularizers import l2\n",
    "from keras.constraints import maxnorm\n",
    "import sklearn\n",
    "from sklearn.model_selection import train_test_split\n",
    "from sklearn.metrics import classification_report\n",
    "from sklearn import metrics\n",
    "import numpy as np \n",
    "import pandas as pd \n",
    "import os\n",
    "np.random.seed(0)\n",
    "import matplotlib.pyplot as plt\n",
    "import matplotlib as mpl\n",
    "import seaborn as sns\n",
    "from wordcloud import WordCloud\n",
    "from matplotlib import rcParams\n",
    "from collections import Counter\n",
    "from tensorflow.keras import preprocessing\n",
    "from tensorflow.keras.preprocessing.text import Tokenizer\n",
    "from tensorflow.keras.preprocessing.sequence import pad_sequences\n",
    "import tensorflow as tf"
   ]
  },
  {
   "cell_type": "markdown",
   "id": "5aef9231",
   "metadata": {},
   "source": [
    "### load pre-processed train / test / validation data"
   ]
  },
  {
   "cell_type": "code",
   "execution_count": 46,
   "id": "c48f7950",
   "metadata": {},
   "outputs": [],
   "source": [
    "X_train = pd.read_csv('./data/X_train.csv')\n",
    "X_test = pd.read_csv('./data/X_test.csv')\n",
    "y_train = pd.read_csv('./data/y_train.csv')\n",
    "y_test = pd.read_csv('./data/y_test.csv')\n",
    "X_val = pd.read_csv('./data/X_val.csv')\n",
    "y_val = pd.read_csv('./data/y_val.csv')"
   ]
  },
  {
   "cell_type": "code",
   "execution_count": 47,
   "id": "570c4a6b",
   "metadata": {},
   "outputs": [
    {
     "data": {
      "text/plain": [
       "0        worse tea fresh green tea indeed green tea tim...\n",
       "1        ive tasted best real things wonderful dreadful...\n",
       "2        love taste good ginger snap cookie saw offered...\n",
       "3        absolutely love coachs oatmeal hated oatmeal t...\n",
       "4        normally dont go instant coffees delicious ins...\n",
       "                               ...                        \n",
       "96058    ive loved graham crackers since kid many brand...\n",
       "96059    decided give try since kcup coffee prices goin...\n",
       "96060    excellent coffee either brewed hot ice drink l...\n",
       "96061    reading useful negative review times comment t...\n",
       "96062    excited high protein pretzels opened tasted ta...\n",
       "Name: text, Length: 96063, dtype: object"
      ]
     },
     "execution_count": 47,
     "metadata": {},
     "output_type": "execute_result"
    }
   ],
   "source": [
    "X_train = X_train.iloc[:,0]\n",
    "X_test = X_test.iloc[:,0]\n",
    "y_train = y_train.iloc[:,0]\n",
    "y_test = y_test.iloc[:,0]\n",
    "X_val = X_val.iloc[:,0]\n",
    "y_val = y_val.iloc[:,0]\n",
    "X_train"
   ]
  },
  {
   "cell_type": "code",
   "execution_count": 48,
   "id": "342b1b1d",
   "metadata": {},
   "outputs": [
    {
     "name": "stdout",
     "output_type": "stream",
     "text": [
      "Train data len:96063\n",
      "Class distributionCounter({1: 80198, 0: 15865})\n",
      "Valid data len:32021\n",
      "Class distributionCounter({1: 26724, 0: 5297})\n",
      "Valid data len:32022\n",
      "Class distributionCounter({1: 26731, 0: 5291})\n"
     ]
    }
   ],
   "source": [
    "print('Train data len:'+str(len(X_train)))\n",
    "print('Class distribution'+str(Counter(y_train)))\n",
    "print('Valid data len:'+str(len(X_val)))\n",
    "print('Class distribution'+ str(Counter(y_val)))\n",
    "print('Valid data len:'+str(len(X_test)))\n",
    "print('Class distribution'+ str(Counter(y_test)))"
   ]
  },
  {
   "cell_type": "markdown",
   "id": "f702b264",
   "metadata": {},
   "source": [
    "### vectorize a text corpus, by turning each text into either a sequence of integers using keras oov tokenizer\n",
    "- num_words : the maximum number of words to keep, based on word frequency. \n"
   ]
  },
  {
   "cell_type": "code",
   "execution_count": 49,
   "id": "8d7b6007",
   "metadata": {},
   "outputs": [
    {
     "name": "stdout",
     "output_type": "stream",
     "text": [
      "[[4, 1800, 13]]\n"
     ]
    }
   ],
   "source": [
    "num_words = 50000\n",
    "\n",
    "tokenizer = Tokenizer(num_words=num_words,oov_token=\"unk\")\n",
    "tokenizer.fit_on_texts(X_train)\n",
    "\n",
    "\n",
    "print(str(tokenizer.texts_to_sequences(['coffee pretzel tea'])))"
   ]
  },
  {
   "cell_type": "markdown",
   "id": "d00ced54",
   "metadata": {},
   "source": [
    "### create train,validation and test tensorflow datasets"
   ]
  },
  {
   "cell_type": "code",
   "execution_count": 50,
   "id": "d2a07c7c",
   "metadata": {},
   "outputs": [
    {
     "name": "stderr",
     "output_type": "stream",
     "text": [
      "c:\\users\\iambo\\appdata\\local\\programs\\python\\python37\\lib\\site-packages\\ipykernel_launcher.py:1: VisibleDeprecationWarning: Creating an ndarray from ragged nested sequences (which is a list-or-tuple of lists-or-tuples-or ndarrays with different lengths or shapes) is deprecated. If you meant to do this, you must specify 'dtype=object' when creating the ndarray.\n",
      "  \"\"\"Entry point for launching an IPython kernel.\n",
      "c:\\users\\iambo\\appdata\\local\\programs\\python\\python37\\lib\\site-packages\\ipykernel_launcher.py:2: VisibleDeprecationWarning: Creating an ndarray from ragged nested sequences (which is a list-or-tuple of lists-or-tuples-or ndarrays with different lengths or shapes) is deprecated. If you meant to do this, you must specify 'dtype=object' when creating the ndarray.\n",
      "  \n",
      "c:\\users\\iambo\\appdata\\local\\programs\\python\\python37\\lib\\site-packages\\ipykernel_launcher.py:3: VisibleDeprecationWarning: Creating an ndarray from ragged nested sequences (which is a list-or-tuple of lists-or-tuples-or ndarrays with different lengths or shapes) is deprecated. If you meant to do this, you must specify 'dtype=object' when creating the ndarray.\n",
      "  This is separate from the ipykernel package so we can avoid doing imports until\n"
     ]
    },
    {
     "name": "stdout",
     "output_type": "stream",
     "text": [
      "Train data len:96063\n",
      "Class distributionCounter({1: 80198, 0: 15865})\n",
      "Validation data len:32021\n",
      "Class distributionCounter({1: 26724, 0: 5297})\n",
      "Test data len:32022\n",
      "Class distributionCounter({1: 26731, 0: 5291})\n"
     ]
    }
   ],
   "source": [
    "x_train = np.array( tokenizer.texts_to_sequences(X_train) )\n",
    "x_val = np.array( tokenizer.texts_to_sequences(X_val) )\n",
    "x_test  = np.array( tokenizer.texts_to_sequences(X_test) )\n",
    "\n",
    "\n",
    "\n",
    "x_train = pad_sequences(x_train, padding='post', maxlen=100)\n",
    "x_val = pad_sequences(x_val, padding='post', maxlen=100)\n",
    "x_test = pad_sequences(x_test, padding='post', maxlen=100)\n",
    "\n",
    "\n",
    "train_labels = np.asarray(y_train)\n",
    "val_labels = np.asarray(y_val)\n",
    "test_labels = np.asarray(y_test)\n",
    "\n",
    "print('Train data len:'+str(len(x_train)))\n",
    "print('Class distribution'+str(Counter(train_labels)))\n",
    "\n",
    "print('Validation data len:'+str(len(x_val)))\n",
    "print('Class distribution'+str(Counter(val_labels)))\n",
    "\n",
    "print('Test data len:'+str(len(x_test)))\n",
    "print('Class distribution'+str(Counter(test_labels)))\n",
    "\n",
    "\n",
    "train_ds = tf.data.Dataset.from_tensor_slices((x_train,train_labels))\n",
    "val_ds = tf.data.Dataset.from_tensor_slices((x_val,val_labels))\n",
    "test_ds = tf.data.Dataset.from_tensor_slices((x_test,test_labels))"
   ]
  },
  {
   "cell_type": "code",
   "execution_count": 51,
   "id": "7911048e",
   "metadata": {},
   "outputs": [
    {
     "name": "stdout",
     "output_type": "stream",
     "text": [
      "======Train dataset ====\n",
      "tf.Tensor(\n",
      "[ 1162    13   173   139    13  1943   139    13    24  1787  1064  3535\n",
      "  1072   854 19596  3151 10488  1059    36    13   933     9    17    71\n",
      "   102    13   571   313  1272   103   102   700  1072  1059  1176     0\n",
      "     0     0     0     0     0     0     0     0     0     0     0     0\n",
      "     0     0     0     0     0     0     0     0     0     0     0     0\n",
      "     0     0     0     0     0     0     0     0     0     0     0     0\n",
      "     0     0     0     0     0     0     0     0     0     0     0     0\n",
      "     0     0     0     0     0     0     0     0     0     0     0     0\n",
      "     0     0     0     0], shape=(100,), dtype=int32) tf.Tensor(0, shape=(), dtype=int64)\n",
      "======Validation dataset ====\n",
      "tf.Tensor(\n",
      "[  158   285   770    41  2067  7256   320   106   574  3374    41   101\n",
      "    41   607  2997     7   352   250    37  1478  2217   462     7   406\n",
      "    41   532  6709    42    41   322   124   244    41  3712     3   326\n",
      "    41   770   285  5301  1427    41   175   613    24    27  5046  1427\n",
      "    14   240 29164    41   101  1424  2176  1848   320  1427  6639     3\n",
      "   389   510    41    55    41   175     0     0     0     0     0     0\n",
      "     0     0     0     0     0     0     0     0     0     0     0     0\n",
      "     0     0     0     0     0     0     0     0     0     0     0     0\n",
      "     0     0     0     0], shape=(100,), dtype=int32) tf.Tensor(1, shape=(), dtype=int64)\n",
      "======Test dataset ====\n",
      "tf.Tensor(\n",
      "[    8  2397  3119  2041   193    10  1979   226 13948   824    61  2397\n",
      "   241   241   486  2313   221  1112    93     8  3535    17   112   824\n",
      "   267  4156   106    93   391     0     0     0     0     0     0     0\n",
      "     0     0     0     0     0     0     0     0     0     0     0     0\n",
      "     0     0     0     0     0     0     0     0     0     0     0     0\n",
      "     0     0     0     0     0     0     0     0     0     0     0     0\n",
      "     0     0     0     0     0     0     0     0     0     0     0     0\n",
      "     0     0     0     0     0     0     0     0     0     0     0     0\n",
      "     0     0     0     0], shape=(100,), dtype=int32) tf.Tensor(1, shape=(), dtype=int64)\n"
     ]
    }
   ],
   "source": [
    "count =0\n",
    "print('======Train dataset ====')\n",
    "for value,label in train_ds:\n",
    "    count += 1\n",
    "    print(value,label)\n",
    "    if count==1:\n",
    "        break\n",
    "count =0\n",
    "print('======Validation dataset ====')\n",
    "for value,label in val_ds:\n",
    "    count += 1\n",
    "    print(value,label)\n",
    "    if count==1:\n",
    "        break\n",
    "count =0\n",
    "print('======Test dataset ====')\n",
    "for value,label in test_ds:\n",
    "    count += 1\n",
    "    print(value,label)\n",
    "    if count==1:\n",
    "        break  "
   ]
  },
  {
   "cell_type": "markdown",
   "id": "c7a38e9a",
   "metadata": {},
   "source": [
    "### create a simple LSTM based sentiment classification model"
   ]
  },
  {
   "cell_type": "code",
   "execution_count": 52,
   "id": "27f3ad21",
   "metadata": {},
   "outputs": [
    {
     "name": "stdout",
     "output_type": "stream",
     "text": [
      "Model: \"sequential\"\n",
      "_________________________________________________________________\n",
      " Layer (type)                Output Shape              Param #   \n",
      "=================================================================\n",
      " embedding (Embedding)       (None, 100, 16)           800016    \n",
      "                                                                 \n",
      " dropout (Dropout)           (None, 100, 16)           0         \n",
      "                                                                 \n",
      " lstm (LSTM)                 (None, 100, 16)           2112      \n",
      "                                                                 \n",
      " flatten (Flatten)           (None, 1600)              0         \n",
      "                                                                 \n",
      " dense (Dense)               (None, 512)               819712    \n",
      "                                                                 \n",
      " dropout_1 (Dropout)         (None, 512)               0         \n",
      "                                                                 \n",
      " dense_1 (Dense)             (None, 8)                 4104      \n",
      "                                                                 \n",
      " dropout_2 (Dropout)         (None, 8)                 0         \n",
      "                                                                 \n",
      " dense_2 (Dense)             (None, 1)                 9         \n",
      "                                                                 \n",
      "=================================================================\n",
      "Total params: 1,625,953\n",
      "Trainable params: 1,625,953\n",
      "Non-trainable params: 0\n",
      "_________________________________________________________________\n"
     ]
    }
   ],
   "source": [
    "max_features =50000\n",
    "embedding_dim =16\n",
    "sequence_length = 100\n",
    "\n",
    "model = tf.keras.Sequential()\n",
    "model.add(tf.keras.layers.Embedding(max_features +1, embedding_dim, input_length=sequence_length,\\\n",
    "                                    embeddings_regularizer = regularizers.l2(0.005))) \n",
    "model.add(tf.keras.layers.Dropout(0.4))\n",
    "\n",
    "model.add(tf.keras.layers.LSTM(embedding_dim,dropout=0.2, recurrent_dropout=0.2,return_sequences=True,\\\n",
    "                                                             kernel_regularizer=regularizers.l2(0.005),\\\n",
    "                                                             bias_regularizer=regularizers.l2(0.005)))\n",
    "\n",
    "model.add(tf.keras.layers.Flatten())\n",
    "\n",
    "model.add(tf.keras.layers.Dense(512, activation='relu',\\\n",
    "                                kernel_regularizer=regularizers.l2(0.001),\\\n",
    "                                bias_regularizer=regularizers.l2(0.001),))\n",
    "model.add(tf.keras.layers.Dropout(0.4))\n",
    "\n",
    "model.add(tf.keras.layers.Dense(8, activation='relu',\\\n",
    "                                kernel_regularizer=regularizers.l2(0.001),\\\n",
    "                                bias_regularizer=regularizers.l2(0.001),))\n",
    "model.add(tf.keras.layers.Dropout(0.4))\n",
    "\n",
    "\n",
    "model.add(tf.keras.layers.Dense(1,activation='sigmoid'))\n",
    "                               \n",
    "\n",
    "\n",
    "\n",
    "model.summary()\n",
    "model.compile(loss=tf.keras.losses.BinaryCrossentropy(),optimizer=tf.keras.optimizers.Adam(1e-3),metrics=[tf.keras.metrics.BinaryAccuracy()])"
   ]
  },
  {
   "cell_type": "markdown",
   "id": "a5bab365",
   "metadata": {},
   "source": [
    "### model fittling"
   ]
  },
  {
   "cell_type": "code",
   "execution_count": 54,
   "id": "3d150d63",
   "metadata": {},
   "outputs": [
    {
     "name": "stdout",
     "output_type": "stream",
     "text": [
      "Epoch 1/10\n",
      "94/94 [==============================] - 35s 344ms/step - loss: 1.2988 - binary_accuracy: 0.8330 - val_loss: 0.4657 - val_binary_accuracy: 0.8866\n",
      "Epoch 2/10\n",
      "94/94 [==============================] - 34s 358ms/step - loss: 0.4285 - binary_accuracy: 0.8947 - val_loss: 0.3563 - val_binary_accuracy: 0.9245\n",
      "Epoch 3/10\n",
      "94/94 [==============================] - 33s 354ms/step - loss: 0.3807 - binary_accuracy: 0.9067 - val_loss: 0.3321 - val_binary_accuracy: 0.9314\n",
      "Epoch 4/10\n",
      "94/94 [==============================] - 32s 344ms/step - loss: 0.3644 - binary_accuracy: 0.9101 - val_loss: 0.3287 - val_binary_accuracy: 0.9288\n",
      "Epoch 5/10\n",
      "94/94 [==============================] - 33s 347ms/step - loss: 0.3553 - binary_accuracy: 0.9106 - val_loss: 0.3369 - val_binary_accuracy: 0.9280\n",
      "Epoch 6/10\n",
      "94/94 [==============================] - 32s 345ms/step - loss: 0.3457 - binary_accuracy: 0.9114 - val_loss: 0.3031 - val_binary_accuracy: 0.9344\n",
      "Epoch 7/10\n",
      "94/94 [==============================] - 33s 347ms/step - loss: 0.3360 - binary_accuracy: 0.9145 - val_loss: 0.2994 - val_binary_accuracy: 0.9347\n",
      "Epoch 8/10\n",
      "94/94 [==============================] - 32s 344ms/step - loss: 0.3332 - binary_accuracy: 0.9149 - val_loss: 0.3158 - val_binary_accuracy: 0.9299\n",
      "Epoch 9/10\n",
      "94/94 [==============================] - 34s 367ms/step - loss: 0.3266 - binary_accuracy: 0.9155 - val_loss: 0.2926 - val_binary_accuracy: 0.9385\n",
      "Epoch 10/10\n",
      "94/94 [==============================] - 34s 359ms/step - loss: 0.3229 - binary_accuracy: 0.9153 - val_loss: 0.2953 - val_binary_accuracy: 0.9362\n"
     ]
    }
   ],
   "source": [
    "epochs = 10\n",
    "history = model.fit(train_ds.shuffle(5000).batch(1024),\n",
    "                    epochs= epochs ,\n",
    "                    validation_data=val_ds.batch(1024),\n",
    "                    verbose=1)"
   ]
  },
  {
   "cell_type": "code",
   "execution_count": 55,
   "id": "740bbf26",
   "metadata": {},
   "outputs": [
    {
     "data": {
      "text/plain": [
       "{'loss': [1.2987629175186157,\n",
       "  0.4285048842430115,\n",
       "  0.38070788979530334,\n",
       "  0.36442235112190247,\n",
       "  0.35527393221855164,\n",
       "  0.3456538915634155,\n",
       "  0.33598828315734863,\n",
       "  0.3331637978553772,\n",
       "  0.326627254486084,\n",
       "  0.32289624214172363],\n",
       " 'binary_accuracy': [0.8329533934593201,\n",
       "  0.8946837186813354,\n",
       "  0.9067487120628357,\n",
       "  0.9100590348243713,\n",
       "  0.9106107354164124,\n",
       "  0.9113914966583252,\n",
       "  0.9144831895828247,\n",
       "  0.9149308204650879,\n",
       "  0.9155137538909912,\n",
       "  0.9153055548667908],\n",
       " 'val_loss': [0.4657359719276428,\n",
       "  0.35629352927207947,\n",
       "  0.33213719725608826,\n",
       "  0.32867631316185,\n",
       "  0.3369048535823822,\n",
       "  0.3030518889427185,\n",
       "  0.29935455322265625,\n",
       "  0.31576797366142273,\n",
       "  0.2925587296485901,\n",
       "  0.2953104078769684],\n",
       " 'val_binary_accuracy': [0.8866369128227234,\n",
       "  0.9244870543479919,\n",
       "  0.9313575625419617,\n",
       "  0.9288279414176941,\n",
       "  0.9279535412788391,\n",
       "  0.9344492554664612,\n",
       "  0.9347303509712219,\n",
       "  0.9298585057258606,\n",
       "  0.9384778738021851,\n",
       "  0.9361981153488159]}"
      ]
     },
     "execution_count": 55,
     "metadata": {},
     "output_type": "execute_result"
    }
   ],
   "source": [
    "history.history"
   ]
  },
  {
   "cell_type": "code",
   "execution_count": 56,
   "id": "ff7a4d49",
   "metadata": {},
   "outputs": [
    {
     "data": {
      "image/png": "[encoded data removed]",
      "text/plain": [
       "<Figure size 432x288 with 1 Axes>"
      ]
     },
     "metadata": {
      "needs_background": "light"
     },
     "output_type": "display_data"
    }
   ],
   "source": [
    "plt.plot(history.history['loss'], label=' training data')\n",
    "plt.plot(history.history['val_loss'], label='validation data')\n",
    "plt.title('Loss for Text Classification')\n",
    "plt.ylabel('Loss value')\n",
    "plt.xlabel('No. epoch')\n",
    "plt.legend(loc=\"upper left\")\n",
    "plt.show()"
   ]
  },
  {
   "cell_type": "code",
   "execution_count": 57,
   "id": "c5927327",
   "metadata": {},
   "outputs": [
    {
     "data": {
      "image/png": "[encoded data removed]",
      "text/plain": [
       "<Figure size 432x288 with 1 Axes>"
      ]
     },
     "metadata": {
      "needs_background": "light"
     },
     "output_type": "display_data"
    }
   ],
   "source": [
    "plt.plot(history.history['binary_accuracy'], label=' training data')\n",
    "plt.plot(history.history['val_binary_accuracy'], label='validation data')\n",
    "plt.title('Accuracy for Text Classification')\n",
    "plt.ylabel('Accuracy value')\n",
    "plt.xlabel('No. epoch')\n",
    "plt.legend(loc=\"upper left\")\n",
    "plt.show()"
   ]
  },
  {
   "cell_type": "markdown",
   "id": "ec51a674",
   "metadata": {},
   "source": [
    "### Lets save our model and tokenizer"
   ]
  },
  {
   "cell_type": "code",
   "execution_count": 58,
   "id": "72bcf070",
   "metadata": {},
   "outputs": [],
   "source": [
    "model.save('./tf_lstmmodel.h5') \n",
    "json_string = tokenizer.to_json()"
   ]
  },
  {
   "cell_type": "code",
   "execution_count": 59,
   "id": "84727151",
   "metadata": {},
   "outputs": [],
   "source": [
    "import json\n",
    "with open('./tokenizer.json', 'w') as outfile:\n",
    "    json.dump(json_string, outfile)"
   ]
  },
  {
   "cell_type": "code",
   "execution_count": 60,
   "id": "735a4926",
   "metadata": {},
   "outputs": [],
   "source": [
    "valid_predict= model.predict(x_val)"
   ]
  },
  {
   "cell_type": "code",
   "execution_count": 61,
   "id": "5d924de0",
   "metadata": {},
   "outputs": [
    {
     "name": "stdout",
     "output_type": "stream",
     "text": [
      "[[0.9989227 ]\n",
      " [0.99888   ]\n",
      " [0.9999977 ]\n",
      " [0.9938774 ]\n",
      " [0.9999126 ]\n",
      " [0.9802322 ]\n",
      " [0.7695441 ]\n",
      " [0.9360392 ]\n",
      " [0.9942855 ]\n",
      " [0.99117947]]\n"
     ]
    }
   ],
   "source": [
    "print(valid_predict[:10])"
   ]
  },
  {
   "cell_type": "markdown",
   "id": "b193e97e",
   "metadata": {},
   "source": [
    "### To find optimal threshold, draw ROC curve"
   ]
  },
  {
   "cell_type": "code",
   "execution_count": 62,
   "id": "18824f97",
   "metadata": {},
   "outputs": [],
   "source": [
    "def plot_roc(name, labels, predictions, **kwargs):\n",
    "    fp, tp, thresholds = sklearn.metrics.roc_curve(labels, predictions)\n",
    "    plt.plot(fp, tp, label=name, linewidth=2, **kwargs)\n",
    "    plt.xlabel('False positives Rate')\n",
    "    plt.ylabel('True positives Rate')\n",
    "    plt.xlim([-0.03, 1.0])\n",
    "    plt.ylim([0.0, 1.03])\n",
    "    plt.grid(True)\n",
    "    thresholdsLength = len(thresholds)\n",
    "    thresholds_every = 1000\n",
    "    colorMap = plt.get_cmap('jet', thresholdsLength)\n",
    "    for i in range(0, thresholdsLength, thresholds_every):\n",
    "        threshold_value_with_max_four_decimals = str(thresholds[i])[:5]\n",
    "        plt.text(fp[i] - 0.03, tp[i] + 0.001, threshold_value_with_max_four_decimals, fontdict={'size': 15}, color=colorMap(i/thresholdsLength));\n",
    "\n",
    "    ax = plt.gca()\n",
    "    ax.set_aspect('equal')"
   ]
  },
  {
   "cell_type": "code",
   "execution_count": 63,
   "id": "9ba099ae",
   "metadata": {},
   "outputs": [],
   "source": [
    "mpl.rcParams['figure.figsize'] = (10, 10)\n",
    "\n",
    "colors = plt.rcParams['axes.prop_cycle'].by_key()['color']"
   ]
  },
  {
   "cell_type": "code",
   "execution_count": 64,
   "id": "ea242451",
   "metadata": {},
   "outputs": [
    {
     "data": {
      "text/plain": [
       "<matplotlib.legend.Legend at 0x240aaa81148>"
      ]
     },
     "execution_count": 64,
     "metadata": {},
     "output_type": "execute_result"
    },
    {
     "data": {
      "image/png": "[encoded data removed]",
      "text/plain": [
       "<Figure size 720x720 with 1 Axes>"
      ]
     },
     "metadata": {
      "needs_background": "light"
     },
     "output_type": "display_data"
    }
   ],
   "source": [
    "plot_roc(\"Valid Baseline\", val_labels, valid_predict, color=colors[0], linestyle='--')\n",
    "plt.legend(loc='lower right')"
   ]
  },
  {
   "cell_type": "code",
   "execution_count": 65,
   "id": "da40725a",
   "metadata": {},
   "outputs": [
    {
     "name": "stdout",
     "output_type": "stream",
     "text": [
      "[0.         0.00770843 0.00774585 ... 1.         1.         1.        ]\n",
      "[0.         0.         0.         ... 0.99924486 0.99981121 1.        ]\n",
      "[2.         1.         0.99999994 ... 0.00694567 0.00444388 0.00417453]\n",
      "0.963931066707617\n",
      "Threshold value is: 0.8707602\n"
     ]
    }
   ],
   "source": [
    "y_true = y_val\n",
    "y_scores = valid_predict\n",
    "\n",
    "fpr, tpr, thresholds = metrics.roc_curve(y_true, y_scores)\n",
    "print(tpr)\n",
    "print(fpr)\n",
    "print(thresholds)\n",
    "print(metrics.roc_auc_score(y_true, y_scores))\n",
    "optimal_idx = np.argmax(tpr - fpr)\n",
    "optimal_threshold = thresholds[optimal_idx]\n",
    "print(\"Threshold value is:\", optimal_threshold)"
   ]
  },
  {
   "cell_type": "code",
   "execution_count": 66,
   "id": "563de868",
   "metadata": {},
   "outputs": [
    {
     "name": "stdout",
     "output_type": "stream",
     "text": [
      "Model: \"sequential\"\n",
      "_________________________________________________________________\n",
      " Layer (type)                Output Shape              Param #   \n",
      "=================================================================\n",
      " embedding (Embedding)       (None, 100, 16)           800016    \n",
      "                                                                 \n",
      " dropout (Dropout)           (None, 100, 16)           0         \n",
      "                                                                 \n",
      " lstm (LSTM)                 (None, 100, 16)           2112      \n",
      "                                                                 \n",
      " flatten (Flatten)           (None, 1600)              0         \n",
      "                                                                 \n",
      " dense (Dense)               (None, 512)               819712    \n",
      "                                                                 \n",
      " dropout_1 (Dropout)         (None, 512)               0         \n",
      "                                                                 \n",
      " dense_1 (Dense)             (None, 8)                 4104      \n",
      "                                                                 \n",
      " dropout_2 (Dropout)         (None, 8)                 0         \n",
      "                                                                 \n",
      " dense_2 (Dense)             (None, 1)                 9         \n",
      "                                                                 \n",
      "=================================================================\n",
      "Total params: 1,625,953\n",
      "Trainable params: 1,625,953\n",
      "Non-trainable params: 0\n",
      "_________________________________________________________________\n"
     ]
    }
   ],
   "source": [
    "new_model = tf.keras.models.load_model('./tf_lstmmodel.h5')\n",
    "new_model.summary()"
   ]
  },
  {
   "cell_type": "markdown",
   "id": "3498ae01",
   "metadata": {},
   "source": [
    "### load the model we build and test on test data"
   ]
  },
  {
   "cell_type": "code",
   "execution_count": 67,
   "id": "79612f73",
   "metadata": {},
   "outputs": [],
   "source": [
    "with open('./tokenizer.json') as json_file:\n",
    "    json_string = json.load(json_file)\n",
    "tokenizer1 = tf.keras.preprocessing.text.tokenizer_from_json(json_string)"
   ]
  },
  {
   "cell_type": "code",
   "execution_count": 68,
   "id": "c3d3c466",
   "metadata": {},
   "outputs": [],
   "source": [
    "predictions = new_model.predict(x_test)"
   ]
  },
  {
   "cell_type": "markdown",
   "id": "1c6074c6",
   "metadata": {},
   "source": [
    "### we will use the optimal threshold to have binary classification"
   ]
  },
  {
   "cell_type": "code",
   "execution_count": 69,
   "id": "49a43011",
   "metadata": {},
   "outputs": [],
   "source": [
    "predictions_binary= predictions\n",
    "predictions_binary = np.where((predictions_binary >= 0.87),1,predictions_binary)\n",
    "predictions_binary = np.where((predictions_binary < 0.87),0,predictions_binary)"
   ]
  },
  {
   "cell_type": "markdown",
   "id": "8e833999",
   "metadata": {},
   "source": [
    "### confusion matrix"
   ]
  },
  {
   "cell_type": "code",
   "execution_count": 70,
   "id": "3d9da8f4",
   "metadata": {},
   "outputs": [
    {
     "name": "stdout",
     "output_type": "stream",
     "text": [
      "              precision    recall  f1-score   support\n",
      "\n",
      "           0       0.70      0.88      0.78      5291\n",
      "           1       0.98      0.92      0.95     26731\n",
      "\n",
      "    accuracy                           0.92     32022\n",
      "   macro avg       0.84      0.90      0.86     32022\n",
      "weighted avg       0.93      0.92      0.92     32022\n",
      "\n"
     ]
    }
   ],
   "source": [
    "print(classification_report(y_test,predictions_binary))"
   ]
  },
  {
   "cell_type": "markdown",
   "id": "1047c8e6",
   "metadata": {},
   "source": [
    "### The accuracy is 92%"
   ]
  }
 ],
 "metadata": {
  "kernelspec": {
   "display_name": "Python 3 (ipykernel)",
   "language": "python",
   "name": "python3"
  },
  "language_info": {
   "codemirror_mode": {
    "name": "ipython",
    "version": 3
   },
   "file_extension": ".py",
   "mimetype": "text/x-python",
   "name": "python",
   "nbconvert_exporter": "python",
   "pygments_lexer": "ipython3",
   "version": "3.7.6"
  }
 },
 "nbformat": 4,
 "nbformat_minor": 5
}
